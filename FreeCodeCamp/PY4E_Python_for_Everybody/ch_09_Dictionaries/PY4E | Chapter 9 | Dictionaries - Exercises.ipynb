{
 "cells": [
  {
   "cell_type": "markdown",
   "metadata": {},
   "source": [
    "# Python for Everybody\n",
    "## Chapter 9 | Dictionaries - Exercises\n",
    "\n",
    "https://www.py4e.com/html3/09-dictionaries"
   ]
  },
  {
   "cell_type": "markdown",
   "metadata": {},
   "source": [
    "***"
   ]
  },
  {
   "cell_type": "markdown",
   "metadata": {},
   "source": [
    "### Exercise 1: \n",
    "\n",
    "#### Download a copy of the file www.py4e.com/code3/words.txt\n",
    "\n",
    "#### Write a program that reads the words in ***words.txt*** and stores them as keys in a dictionary. It doesn’t matter what the values are. Then you can use the <font color=\"red\">***in***</font> operator as a fast way to check whether a string is in the dictionary."
   ]
  },
  {
   "cell_type": "code",
   "execution_count": 1,
   "metadata": {},
   "outputs": [
    {
     "name": "stdout",
     "output_type": "stream",
     "text": [
      "Enter file: words.txt\n",
      "\n",
      "\n",
      "{'Writing': 1, 'programs': 2, 'or': 1, 'programming': 1, 'is': 2, 'a': 3, 'very': 2, 'creative': 1, 'and': 5, 'rewarding': 1, 'activity': 1, 'You': 1, 'can': 4, 'write': 1, 'for': 1, 'many': 2, 'reasons': 1, 'ranging': 2, 'from': 2, 'making': 1, 'your': 2, 'living': 1, 'to': 16, 'solving': 1, 'difficult': 1, 'data': 1, 'analysis': 1, 'problem': 2, 'having': 1, 'fun': 1, 'helping': 1, 'someone': 1, 'else': 1, 'solve': 1, 'This': 1, 'book': 1, 'assumes': 1, 'that': 4, '{\\\\em': 1, 'everyone}': 1, 'needs': 1, 'know': 2, 'how': 2, 'program': 1, 'once': 1, 'you': 4, 'program,': 1, 'will': 1, 'figure': 1, 'out': 1, 'what': 2, 'want': 1, 'do': 5, 'with': 2, 'newfound': 1, 'skills': 1, 'We': 2, 'are': 3, 'surrounded': 1, 'in': 2, 'our': 5, 'daily': 1, 'lives': 1, 'computers': 5, 'laptops': 1, 'cell': 1, 'phones': 1, 'think': 1, 'of': 5, 'these': 1, 'as': 1, 'personal': 1, 'assistants': 1, 'who': 1, 'take': 1, 'care': 1, 'things': 3, 'on': 2, 'behalf': 2, 'The': 1, 'hardware': 1, 'current-day': 1, 'essentially': 1, 'built': 1, 'continuously': 1, 'ask': 1, 'us': 2, 'the': 6, 'question': 1, 'What': 1, 'would': 2, 'like': 2, 'me': 1, 'next': 2, 'Our': 1, 'fast': 1, 'have': 1, 'vasts': 1, 'amounts': 1, 'memory': 1, 'could': 2, 'be': 1, 'helpful': 1, 'if': 1, 'we': 5, 'only': 1, 'knew': 2, 'language': 2, 'speak': 1, 'explain': 1, 'computer': 2, 'it': 1, 'If': 1, 'this': 1, 'tell': 1, 'tasks': 1, 'were': 1, 'reptitive': 1, 'Interestingly,': 1, 'kinds': 2, 'best': 1, 'often': 1, 'humans': 1, 'find': 1, 'boring': 1, 'mind-numbing': 1}\n"
     ]
    }
   ],
   "source": [
    "fname = input(\"Enter file: \")\n",
    "\n",
    "if len(fname) < 1 : fname = \"words.txt\"\n",
    "fh = open(fname)\n",
    "\n",
    "ddd = dict()\n",
    "\n",
    "for line in fh:\n",
    "    line = line.rstrip().split()\n",
    "    words = line\n",
    "    for word in words:\n",
    "        ddd[word] = ddd.get(word,0) + 1\n",
    "\n",
    "print(\"\\n\")\n",
    "print(ddd)"
   ]
  },
  {
   "cell_type": "markdown",
   "metadata": {},
   "source": [
    "***"
   ]
  },
  {
   "cell_type": "markdown",
   "metadata": {},
   "source": [
    "### Exercise 2: \n",
    "\n",
    "#### Write a program that categorizes each mail message by which day of the week the commit was done. To do this look for lines that start with “From”, then look for the third word and keep a running count of each of the days of the week. At the end of the program print out the contents of your dictionary (order does not matter).\n",
    "\n",
    "#### Sample Line:"
   ]
  },
  {
   "cell_type": "code",
   "execution_count": null,
   "metadata": {},
   "outputs": [],
   "source": [
    "From stephen.marquard@uct.ac.za Sat Jan  5 09:14:16 2008"
   ]
  },
  {
   "cell_type": "markdown",
   "metadata": {},
   "source": [
    "#### Sample Execution:"
   ]
  },
  {
   "cell_type": "code",
   "execution_count": null,
   "metadata": {},
   "outputs": [],
   "source": [
    "python dow.py\n",
    "Enter a file name: mbox-short.txt\n",
    "{'Fri': 20, 'Thu': 6, 'Sat': 1}"
   ]
  },
  {
   "cell_type": "code",
   "execution_count": 2,
   "metadata": {},
   "outputs": [
    {
     "name": "stdout",
     "output_type": "stream",
     "text": [
      "Enter file name: mbox-short.txt\n",
      "\n",
      "\n",
      "{'Sat': 1, 'Fri': 20, 'Thu': 6}\n"
     ]
    }
   ],
   "source": [
    "fname = input(\"Enter file name: \")\n",
    "if len(fname) < 1 : fname = \"mbox-short.txt\"\n",
    "fh = open(fname)\n",
    "ddd = dict()\n",
    "\n",
    "for line in fh :\n",
    "    line = line.rstrip().split()\n",
    "    if not 'From' in line: continue\n",
    "    day = line[2]\n",
    "    ddd[day] = ddd.get(day, 0) + 1\n",
    "\n",
    "print(\"\\n\")\n",
    "print(ddd)"
   ]
  },
  {
   "cell_type": "markdown",
   "metadata": {},
   "source": [
    "***"
   ]
  },
  {
   "cell_type": "markdown",
   "metadata": {},
   "source": [
    "### Exercise 3: \n",
    "\n",
    "#### Write a program to read through a mail log, build a histogram using a dictionary to count how many messages have come from each email address, and print the dictionary."
   ]
  },
  {
   "cell_type": "code",
   "execution_count": null,
   "metadata": {},
   "outputs": [],
   "source": [
    "Enter file name: mbox-short.txt\n",
    "{'gopal.ramasammycook@gmail.com': 1, 'louis@media.berkeley.edu': 3,\n",
    "'cwen@iupui.edu': 5, 'antranig@caret.cam.ac.uk': 1,\n",
    "'rjlowe@iupui.edu': 2, 'gsilver@umich.edu': 3,\n",
    "'david.horwitz@uct.ac.za': 4, 'wagnermr@iupui.edu': 1,\n",
    "'zqian@umich.edu': 4, 'stephen.marquard@uct.ac.za': 2,\n",
    "'ray@media.berkeley.edu': 1}"
   ]
  },
  {
   "cell_type": "code",
   "execution_count": 3,
   "metadata": {},
   "outputs": [
    {
     "name": "stdout",
     "output_type": "stream",
     "text": [
      "Enter file name: mbox-short.txt\n",
      "\n",
      "\n",
      "{'stephen.marquard@uct.ac.za': 2, 'louis@media.berkeley.edu': 3, 'zqian@umich.edu': 4, 'rjlowe@iupui.edu': 2, 'cwen@iupui.edu': 5, 'gsilver@umich.edu': 3, 'wagnermr@iupui.edu': 1, 'antranig@caret.cam.ac.uk': 1, 'gopal.ramasammycook@gmail.com': 1, 'david.horwitz@uct.ac.za': 4, 'ray@media.berkeley.edu': 1}\n"
     ]
    }
   ],
   "source": [
    "fname = input(\"Enter file name: \")\n",
    "if len(fname) < 1 : fname = \"mbox-short.txt\"\n",
    "fh = open(fname)\n",
    "ddd = dict()\n",
    "\n",
    "for line in fh :\n",
    "    line = line.rstrip().split()\n",
    "    if not 'From' in line: continue\n",
    "    email = line[1]\n",
    "    ddd[email] = ddd.get(email, 0) + 1\n",
    "\n",
    "print(\"\\n\")\n",
    "print(ddd)"
   ]
  },
  {
   "cell_type": "markdown",
   "metadata": {},
   "source": [
    "***"
   ]
  },
  {
   "cell_type": "markdown",
   "metadata": {},
   "source": [
    "### Exercise 4: \n",
    "\n",
    "#### Add code to the above program to figure out who has the most messages in the file. After all the data has been read and the dictionary has been created, look through the dictionary using a maximum loop (see Chapter 5: Maximum and minimum loops) to find who has the most messages and print how many messages the person has."
   ]
  },
  {
   "cell_type": "code",
   "execution_count": null,
   "metadata": {},
   "outputs": [],
   "source": [
    "Enter a file name: mbox-short.txt\n",
    "cwen@iupui.edu 5\n",
    "\n",
    "Enter a file name: mbox.txt\n",
    "zqian@umich.edu 195"
   ]
  },
  {
   "cell_type": "code",
   "execution_count": 4,
   "metadata": {},
   "outputs": [
    {
     "name": "stdout",
     "output_type": "stream",
     "text": [
      "Enter file name: mbox-short.txt\n",
      "\n",
      "\n",
      "cwen@iupui.edu 5\n"
     ]
    }
   ],
   "source": [
    "fname = input(\"Enter file name: \")\n",
    "if len(fname) < 1 : fname = \"mbox-short.txt\"\n",
    "fh = open(fname)\n",
    "\n",
    "# This parses the file for received mails addresses and stores them as a histogram/dictionary.\n",
    "ddd = dict()\n",
    "for line in fh :\n",
    "    line = line.rstrip().split()\n",
    "    if not 'From' in line : continue\n",
    "    email = line[1]\n",
    "    ddd[email] = ddd.get(email, 0) + 1\n",
    "\n",
    "# This creates a maximum loop to see which email address occurs the most times.\n",
    "sent = None\n",
    "sender = None\n",
    "for key, count in ddd.items() :\n",
    "    if sent is None or count > sent :\n",
    "        sender = key\n",
    "        sent = count\n",
    "\n",
    "print(\"\\n\")\n",
    "print(sender, sent)"
   ]
  },
  {
   "cell_type": "markdown",
   "metadata": {},
   "source": [
    "***"
   ]
  },
  {
   "cell_type": "markdown",
   "metadata": {},
   "source": [
    "### Exercise 5: \n",
    "\n",
    "#### This program records the domain name (instead of the address) where the message was sent from instead of who the mail came from (i.e., the whole email address). At the end of the program, print out the contents of your dictionary."
   ]
  },
  {
   "cell_type": "code",
   "execution_count": null,
   "metadata": {},
   "outputs": [],
   "source": [
    "python schoolcount.py\n",
    "Enter a file name: mbox-short.txt\n",
    "{'media.berkeley.edu': 4, 'uct.ac.za': 6, 'umich.edu': 7,\n",
    "'gmail.com': 1, 'caret.cam.ac.uk': 1, 'iupui.edu': 8}"
   ]
  },
  {
   "cell_type": "code",
   "execution_count": 5,
   "metadata": {},
   "outputs": [
    {
     "name": "stdout",
     "output_type": "stream",
     "text": [
      "Enter file name: mbox-short.txt\n",
      "\n",
      "\n",
      "{'uct.ac.za': 6, 'media.berkeley.edu': 4, 'umich.edu': 7, 'iupui.edu': 8, 'caret.cam.ac.uk': 1, 'gmail.com': 1}\n"
     ]
    }
   ],
   "source": [
    "fname = input(\"Enter file name: \")\n",
    "if len(fname) < 1 : fname = \"mbox-short.txt\"\n",
    "fh = open(fname)\n",
    "\n",
    "ddd = dict()\n",
    "for line in fh :\n",
    "    line = line.rstrip().split()\n",
    "    if not 'From' in line : continue\n",
    "    email = line[1]\n",
    "    domain = email.split('@')[1]\n",
    "    ddd[domain] = ddd.get(domain, 0) + 1\n",
    "\n",
    "print(\"\\n\")\n",
    "print(ddd)"
   ]
  }
 ],
 "metadata": {
  "kernelspec": {
   "display_name": "Python 3",
   "language": "python",
   "name": "python3"
  },
  "language_info": {
   "codemirror_mode": {
    "name": "ipython",
    "version": 3
   },
   "file_extension": ".py",
   "mimetype": "text/x-python",
   "name": "python",
   "nbconvert_exporter": "python",
   "pygments_lexer": "ipython3",
   "version": "3.8.3"
  }
 },
 "nbformat": 4,
 "nbformat_minor": 4
}
