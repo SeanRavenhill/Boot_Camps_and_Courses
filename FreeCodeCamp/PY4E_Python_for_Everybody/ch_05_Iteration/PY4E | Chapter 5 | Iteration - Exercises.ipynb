{
 "cells": [
  {
   "cell_type": "markdown",
   "metadata": {},
   "source": [
    "# Python for Everybody\n",
    "## Chapter 5 | Iteration - Exercises\n",
    "\n",
    "https://www.py4e.com/html3/05-iterations"
   ]
  },
  {
   "cell_type": "markdown",
   "metadata": {},
   "source": [
    "***"
   ]
  },
  {
   "cell_type": "markdown",
   "metadata": {},
   "source": [
    "### Exercise 1:\n",
    "#### Write a program which repeatedly reads numbers until the user enters “done”. Once “done” is entered, print out the total, count, and average of the numbers. If the user enters anything other than a number, detect their mistake using <font color=\"red\">***try***</font> and <font color=\"red\">***except***</font> and print an error message and skip to the next number."
   ]
  },
  {
   "cell_type": "code",
   "execution_count": null,
   "metadata": {},
   "outputs": [],
   "source": [
    "Enter a number: 4\n",
    "Enter a number: 5\n",
    "Enter a number: bad data\n",
    "Invalid input\n",
    "Enter a number: 7\n",
    "Enter a number: done\n",
    "16 3 5.333333333333333"
   ]
  },
  {
   "cell_type": "code",
   "execution_count": 1,
   "metadata": {},
   "outputs": [
    {
     "name": "stdout",
     "output_type": "stream",
     "text": [
      "Please enter a number: 4\n",
      "Please enter a number: 5\n",
      "Please enter a number: bad data\n",
      "Please enter a numeric value. Thank you.\n",
      "Please enter a number: 7\n",
      "Please enter a number: done\n",
      "\n",
      "Total sum of numbers: 16, Total numbers entered: 3, Average of numbers 5.33\n"
     ]
    }
   ],
   "source": [
    "num = 0\n",
    "total = 0.0\n",
    "\n",
    "while True:\n",
    "    usr_input = input(\"Please enter a number: \")\n",
    "\n",
    "    if usr_input == 'done':\n",
    "        break\n",
    "\n",
    "    try:\n",
    "        usr_input_data = float(usr_input)\n",
    "    except:\n",
    "        print(\"Please enter a numeric value. Thank you.\")\n",
    "        continue\n",
    "\n",
    "    num = num + 1\n",
    "    total = total + usr_input_data\n",
    "\n",
    "print(\"\\n\" + \"Total sum of numbers:\", str(int(total)) + \", Total numbers entered:\", str(num) + \", Average of numbers\", str(round((total/num), 2)))"
   ]
  },
  {
   "cell_type": "markdown",
   "metadata": {},
   "source": [
    "***"
   ]
  },
  {
   "cell_type": "markdown",
   "metadata": {},
   "source": [
    "### Exercise 2:\n",
    "#### Write another program that prompts for a list of numbers as above and at the end prints out both the maximum and minimum of the numbers instead of the average."
   ]
  },
  {
   "cell_type": "code",
   "execution_count": 2,
   "metadata": {},
   "outputs": [
    {
     "name": "stdout",
     "output_type": "stream",
     "text": [
      "Enter a number: 4\n",
      "Enter a number: 5\n",
      "Enter a number: bad data\n",
      "Please enter a numeric value. Thank you.\n",
      "Enter a number: 7\n",
      "Enter a number: done\n",
      "\n",
      "Maximum is 7\n",
      "Minimum is 4\n"
     ]
    }
   ],
   "source": [
    "largest = None\n",
    "smallest = None\n",
    "\n",
    "while True:\n",
    "    num = input(\"Enter a number: \")\n",
    "    \n",
    "    if num == \"done\" :\n",
    "        break\n",
    "\n",
    "    try:\n",
    "        number = int(num)\n",
    "    except:\n",
    "        print(\"Please enter a numeric value. Thank you.\")\n",
    "        continue\n",
    "\n",
    "    if largest is None or largest < number :\n",
    "        largest = number\n",
    "\n",
    "    if smallest is None or smallest > number :\n",
    "        smallest = number\n",
    "\n",
    "print(\"\\n\" + \"Maximum is\", largest)\n",
    "print(\"Minimum is\", smallest)"
   ]
  }
 ],
 "metadata": {
  "kernelspec": {
   "display_name": "Python 3",
   "language": "python",
   "name": "python3"
  },
  "language_info": {
   "codemirror_mode": {
    "name": "ipython",
    "version": 3
   },
   "file_extension": ".py",
   "mimetype": "text/x-python",
   "name": "python",
   "nbconvert_exporter": "python",
   "pygments_lexer": "ipython3",
   "version": "3.8.3"
  }
 },
 "nbformat": 4,
 "nbformat_minor": 4
}
