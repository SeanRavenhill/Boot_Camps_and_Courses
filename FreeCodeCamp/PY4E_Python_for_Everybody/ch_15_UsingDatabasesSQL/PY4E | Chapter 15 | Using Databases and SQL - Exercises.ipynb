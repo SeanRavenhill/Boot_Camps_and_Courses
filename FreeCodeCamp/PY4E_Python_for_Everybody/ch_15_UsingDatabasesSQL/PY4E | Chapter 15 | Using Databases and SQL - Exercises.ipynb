{
 "cells": [
  {
   "cell_type": "markdown",
   "metadata": {},
   "source": [
    "# Python for Everybody\n",
    "## Chapter 15 | Using Databases and SQL - Exercises\n",
    "\n",
    "https://www.py4e.com/html3/15-database"
   ]
  },
  {
   "cell_type": "markdown",
   "metadata": {},
   "source": [
    "***"
   ]
  },
  {
   "cell_type": "markdown",
   "metadata": {},
   "source": [
    "No exercises asocioated to this chapter. Four assigments using a combination of Python to create .sqlite files.\n",
    "\n",
    "Then used DB Browser for SQLite to extract data."
   ]
  },
  {
   "cell_type": "code",
   "execution_count": null,
   "metadata": {},
   "outputs": [],
   "source": []
  }
 ],
 "metadata": {
  "kernelspec": {
   "display_name": "Python 3",
   "language": "python",
   "name": "python3"
  },
  "language_info": {
   "codemirror_mode": {
    "name": "ipython",
    "version": 3
   },
   "file_extension": ".py",
   "mimetype": "text/x-python",
   "name": "python",
   "nbconvert_exporter": "python",
   "pygments_lexer": "ipython3",
   "version": "3.8.3"
  }
 },
 "nbformat": 4,
 "nbformat_minor": 4
}
