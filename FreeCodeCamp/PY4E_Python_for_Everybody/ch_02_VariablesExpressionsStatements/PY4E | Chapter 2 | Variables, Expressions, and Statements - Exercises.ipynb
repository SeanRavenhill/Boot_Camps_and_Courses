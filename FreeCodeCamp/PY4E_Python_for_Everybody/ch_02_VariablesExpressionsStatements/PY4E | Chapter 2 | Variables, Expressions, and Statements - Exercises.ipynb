{
 "cells": [
  {
   "cell_type": "markdown",
   "metadata": {},
   "source": [
    "# Python for Everybody\n",
    "## Chapter 2 | Variables, Expressions, and Statements - Exercises\n",
    "\n",
    "https://www.py4e.com/html3/02-variables"
   ]
  },
  {
   "cell_type": "markdown",
   "metadata": {},
   "source": [
    "***"
   ]
  },
  {
   "cell_type": "markdown",
   "metadata": {},
   "source": [
    "### Exercise 1: \n",
    "#### Type the following statements in the Python interpreter to see what they do:"
   ]
  },
  {
   "cell_type": "code",
   "execution_count": 1,
   "metadata": {},
   "outputs": [
    {
     "data": {
      "text/plain": [
       "6"
      ]
     },
     "execution_count": 1,
     "metadata": {},
     "output_type": "execute_result"
    }
   ],
   "source": [
    "5\n",
    "x = 5\n",
    "x + 1"
   ]
  },
  {
   "cell_type": "markdown",
   "metadata": {},
   "source": [
    "***"
   ]
  },
  {
   "cell_type": "markdown",
   "metadata": {},
   "source": [
    "### Exercise 2: \n",
    "#### Write a program that uses input to prompt a user for their name and then welcomes them."
   ]
  },
  {
   "cell_type": "code",
   "execution_count": 2,
   "metadata": {},
   "outputs": [
    {
     "name": "stdout",
     "output_type": "stream",
     "text": [
      "Enter your name: Sean\n",
      "\n",
      "Hello Sean\n"
     ]
    }
   ],
   "source": [
    "name = input('Enter your name: ')\n",
    "\n",
    "print('\\n' + 'Hello', name)"
   ]
  },
  {
   "cell_type": "markdown",
   "metadata": {},
   "source": [
    "***"
   ]
  },
  {
   "cell_type": "markdown",
   "metadata": {},
   "source": [
    "### Exercise 3: \n",
    "#### Write a program to prompt the user for hours and rate per hour to compute gross pay.\n",
    "*We won’t worry about making sure our pay has exactly two digits after the decimal place for now. If you want, you can play with the built-in Python round function to properly round the resulting pay to two decimal places.*"
   ]
  },
  {
   "cell_type": "code",
   "execution_count": 3,
   "metadata": {},
   "outputs": [
    {
     "name": "stdout",
     "output_type": "stream",
     "text": [
      "Enter your hours: 40\n",
      "Enter your rate: 10\n",
      "\n",
      "Pay: 400.0\n"
     ]
    }
   ],
   "source": [
    "hours = input(\"Enter your hours: \")\n",
    "rate = input(\"Enter your rate: \")\n",
    "pay = float(hours) * float(rate)\n",
    "\n",
    "print('\\n' + \"Pay:\", round(pay, 2))"
   ]
  },
  {
   "cell_type": "markdown",
   "metadata": {},
   "source": [
    "***"
   ]
  },
  {
   "cell_type": "markdown",
   "metadata": {},
   "source": [
    "### Exercise 4:\n",
    "#### Assume that we execute the following assignment statements:"
   ]
  },
  {
   "cell_type": "code",
   "execution_count": 4,
   "metadata": {},
   "outputs": [],
   "source": [
    "width = 17\n",
    "height = 12.0"
   ]
  },
  {
   "cell_type": "markdown",
   "metadata": {},
   "source": [
    "For each of the following expressions, write the value of the expression and the type (of the value of the expression).<br>\n",
    "\n",
    "<font color=\"red\">***width//2***</font><br>\n",
    "\n",
    "<font color=\"red\">***width/2.0***</font><br>\n",
    "\n",
    "<font color=\"red\">***height/3***</font><br>\n",
    "\n",
    "<font color=\"red\">***1 + 2 * 5***</font><br>\n",
    "\n",
    "Use the Python interpreter to check your answers."
   ]
  },
  {
   "cell_type": "code",
   "execution_count": 5,
   "metadata": {},
   "outputs": [
    {
     "name": "stdout",
     "output_type": "stream",
     "text": [
      "(a) output = Floor Division returns sum that is of data type (int): 8\n",
      "\n",
      "(b) Output = Division returns sum that is of data type (float): 8.5\n",
      "\n",
      "(c) Output = Division returns sum that is of data type (float): 4.0\n",
      "\n",
      "(d) Output = Rules of Precedence PEMDAS (Parentheses,\n",
      "Exponentiation, Multiplication and Division, Addition and Subtraction)\n",
      "returns sum that is of data type (int): 11\n"
     ]
    }
   ],
   "source": [
    "a = width//2\n",
    "\n",
    "b = width/2.0\n",
    "\n",
    "c = height/3\n",
    "\n",
    "d = 1 + 2 * 5\n",
    "\n",
    "print('(a) output = Floor Division returns sum that is of data type (int):', a)\n",
    "print('\\n' + '(b) Output = Division returns sum that is of data type (float):', b)\n",
    "print('\\n' + '(c) Output = Division returns sum that is of data type (float):', c)\n",
    "print('\\n' + '''(d) Output = Rules of Precedence PEMDAS (Parentheses,\n",
    "Exponentiation, Multiplication and Division, Addition and Subtraction)\n",
    "returns sum that is of data type (int):''', d )"
   ]
  },
  {
   "cell_type": "markdown",
   "metadata": {},
   "source": [
    "***"
   ]
  },
  {
   "cell_type": "markdown",
   "metadata": {},
   "source": [
    "### Exercise 5: \n",
    "#### Write a program which prompts the user for a Celsius temperature, convert the temperature to Fahrenheit, and print out the converted temperature."
   ]
  },
  {
   "cell_type": "code",
   "execution_count": 6,
   "metadata": {},
   "outputs": [
    {
     "name": "stdout",
     "output_type": "stream",
     "text": [
      "Please enter a temperature in C° you wish to convert to F°: 10\n",
      "\n",
      "10C° converts to 50F°\n"
     ]
    }
   ],
   "source": [
    "cel = float(input('Please enter a temperature in C° you wish to convert to F°: '))\n",
    "\n",
    "print('\\n' + str(int(cel)) + 'C° converts to ' + (str(int(cel * 1.8) + 32)) + 'F°')\n"
   ]
  },
  {
   "cell_type": "markdown",
   "metadata": {},
   "source": [
    "***"
   ]
  }
 ],
 "metadata": {
  "kernelspec": {
   "display_name": "Python 3",
   "language": "python",
   "name": "python3"
  },
  "language_info": {
   "codemirror_mode": {
    "name": "ipython",
    "version": 3
   },
   "file_extension": ".py",
   "mimetype": "text/x-python",
   "name": "python",
   "nbconvert_exporter": "python",
   "pygments_lexer": "ipython3",
   "version": "3.8.3"
  }
 },
 "nbformat": 4,
 "nbformat_minor": 4
}
