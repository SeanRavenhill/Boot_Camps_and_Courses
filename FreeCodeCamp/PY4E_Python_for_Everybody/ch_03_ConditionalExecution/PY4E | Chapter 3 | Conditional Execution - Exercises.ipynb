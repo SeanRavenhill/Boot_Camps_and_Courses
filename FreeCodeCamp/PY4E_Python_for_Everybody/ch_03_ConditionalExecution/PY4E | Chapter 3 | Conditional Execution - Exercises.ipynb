{
 "cells": [
  {
   "cell_type": "markdown",
   "metadata": {},
   "source": [
    "# Python for Everybody\n",
    "## Chapter 3 | Conditional Execution - Exercises\n",
    "\n",
    "https://www.py4e.com/html3/03-conditional"
   ]
  },
  {
   "cell_type": "markdown",
   "metadata": {},
   "source": [
    "***"
   ]
  },
  {
   "cell_type": "markdown",
   "metadata": {},
   "source": [
    "### Exercise 1: \n",
    "#### Rewrite your pay computation to give the employee 1.5 times the hourly rate for hours worked above 40 hours."
   ]
  },
  {
   "cell_type": "markdown",
   "metadata": {},
   "source": [
    "#### Answer:"
   ]
  },
  {
   "cell_type": "code",
   "execution_count": 1,
   "metadata": {},
   "outputs": [
    {
     "name": "stdout",
     "output_type": "stream",
     "text": [
      "Enter your hours: 42\n",
      "Enter your rate: 10\n",
      "\n",
      "Pay: 430.0\n"
     ]
    }
   ],
   "source": [
    "user_input_hours = input('Enter your hours: ')\n",
    "user_input_rate = input('Enter your rate: ')\n",
    "hours = float(user_input_hours)\n",
    "rate = float(user_input_rate)\n",
    "\n",
    "if hours > 40 :\n",
    "    regular_time = hours * rate\n",
    "    overtime_pay = (hours - 40) * (rate * 0.5)\n",
    "    pay = regular_time + overtime_pay\n",
    "else:\n",
    "    pay = hours * rate\n",
    "    \n",
    "print('\\n' + 'Pay:', round(pay, 2))"
   ]
  },
  {
   "cell_type": "markdown",
   "metadata": {},
   "source": [
    "***"
   ]
  },
  {
   "cell_type": "markdown",
   "metadata": {},
   "source": [
    "### Exercise 2: \n",
    "#### Rewrite your pay program using <font color=\"red\">***try***</font> and <font color=\"red\">***except***</font> so that your program handles non-numeric input gracefully by printing a message and exiting the program. The following shows two executions of the program:"
   ]
  },
  {
   "cell_type": "code",
   "execution_count": null,
   "metadata": {},
   "outputs": [],
   "source": [
    "Enter Hours: 20\n",
    "Enter Rate: nine\n",
    "Error, please enter numeric input"
   ]
  },
  {
   "cell_type": "code",
   "execution_count": null,
   "metadata": {},
   "outputs": [],
   "source": [
    "Enter Hours: forty\n",
    "Error, please enter numeric input"
   ]
  },
  {
   "cell_type": "markdown",
   "metadata": {},
   "source": [
    "#### Answer:"
   ]
  },
  {
   "cell_type": "code",
   "execution_count": 1,
   "metadata": {},
   "outputs": [
    {
     "name": "stdout",
     "output_type": "stream",
     "text": [
      "Enter your hours: 20\n",
      "Enter your rate: nine\n",
      "Error, please enter numeric input.\n"
     ]
    },
    {
     "ename": "NameError",
     "evalue": "name 'rate' is not defined",
     "output_type": "error",
     "traceback": [
      "\u001b[0;31m---------------------------------------------------------------------------\u001b[0m",
      "\u001b[0;31mNameError\u001b[0m                                 Traceback (most recent call last)",
      "\u001b[0;32m<ipython-input-1-92c750070f39>\u001b[0m in \u001b[0;36m<module>\u001b[0;34m\u001b[0m\n\u001b[1;32m     14\u001b[0m     \u001b[0mpay\u001b[0m \u001b[0;34m=\u001b[0m \u001b[0mregular_time\u001b[0m \u001b[0;34m+\u001b[0m \u001b[0movertime_pay\u001b[0m\u001b[0;34m\u001b[0m\u001b[0;34m\u001b[0m\u001b[0m\n\u001b[1;32m     15\u001b[0m \u001b[0;32melse\u001b[0m\u001b[0;34m:\u001b[0m\u001b[0;34m\u001b[0m\u001b[0;34m\u001b[0m\u001b[0m\n\u001b[0;32m---> 16\u001b[0;31m     \u001b[0mpay\u001b[0m \u001b[0;34m=\u001b[0m \u001b[0mhours\u001b[0m \u001b[0;34m*\u001b[0m \u001b[0mrate\u001b[0m\u001b[0;34m\u001b[0m\u001b[0;34m\u001b[0m\u001b[0m\n\u001b[0m\u001b[1;32m     17\u001b[0m \u001b[0;34m\u001b[0m\u001b[0m\n\u001b[1;32m     18\u001b[0m \u001b[0mprint\u001b[0m\u001b[0;34m(\u001b[0m\u001b[0;34m'\\n'\u001b[0m \u001b[0;34m+\u001b[0m \u001b[0;34m'Pay:'\u001b[0m\u001b[0;34m,\u001b[0m \u001b[0mround\u001b[0m\u001b[0;34m(\u001b[0m\u001b[0mpay\u001b[0m\u001b[0;34m,\u001b[0m \u001b[0;36m2\u001b[0m\u001b[0;34m)\u001b[0m\u001b[0;34m)\u001b[0m\u001b[0;34m\u001b[0m\u001b[0;34m\u001b[0m\u001b[0m\n",
      "\u001b[0;31mNameError\u001b[0m: name 'rate' is not defined"
     ]
    }
   ],
   "source": [
    "user_input_hours = input('Enter your hours: ')\n",
    "user_input_rate = input('Enter your rate: ')\n",
    "\n",
    "try:\n",
    "    hours = float(user_input_hours)\n",
    "    rate = float(user_input_rate)\n",
    "except:\n",
    "    print('Error, please enter numeric input.')\n",
    "    quit()\n",
    "\n",
    "if hours > 40 :\n",
    "    regular_time = hours * rate\n",
    "    overtime_pay = (hours - 40) * (rate * 0.5)\n",
    "    pay = regular_time + overtime_pay\n",
    "else:\n",
    "    pay = hours * rate\n",
    "\n",
    "print('\\n' + 'Pay:', round(pay, 2))"
   ]
  },
  {
   "cell_type": "markdown",
   "metadata": {},
   "source": [
    "***"
   ]
  },
  {
   "cell_type": "markdown",
   "metadata": {},
   "source": [
    "### Exercise 3: \n",
    "#### Write a program to prompt for a score between 0.0 and 1.0. If the score is out of range, print an error message. If the score is between 0.0 and 1.0, print a grade using the following table:"
   ]
  },
  {
   "cell_type": "code",
   "execution_count": null,
   "metadata": {},
   "outputs": [],
   "source": [
    "Score   Grade\n",
    ">= 0.9     A\n",
    ">= 0.8     B\n",
    ">= 0.7     C\n",
    ">= 0.6     D\n",
    " < 0.6     F"
   ]
  },
  {
   "cell_type": "code",
   "execution_count": null,
   "metadata": {},
   "outputs": [],
   "source": [
    "Enter score: 0.95\n",
    "A"
   ]
  },
  {
   "cell_type": "code",
   "execution_count": null,
   "metadata": {},
   "outputs": [],
   "source": [
    "Enter score: perfect\n",
    "Bad score"
   ]
  },
  {
   "cell_type": "code",
   "execution_count": null,
   "metadata": {},
   "outputs": [],
   "source": [
    "Enter score: 10.0\n",
    "Bad score"
   ]
  },
  {
   "cell_type": "code",
   "execution_count": null,
   "metadata": {},
   "outputs": [],
   "source": [
    "Enter score: 0.75\n",
    "C"
   ]
  },
  {
   "cell_type": "code",
   "execution_count": null,
   "metadata": {},
   "outputs": [],
   "source": [
    "Enter score: 0.5\n",
    "F"
   ]
  },
  {
   "cell_type": "markdown",
   "metadata": {},
   "source": [
    "#### Answer:"
   ]
  },
  {
   "cell_type": "code",
   "execution_count": 3,
   "metadata": {},
   "outputs": [
    {
     "name": "stdout",
     "output_type": "stream",
     "text": [
      "Enter Score: 0.8\n",
      "You scored a B\n"
     ]
    }
   ],
   "source": [
    "score = input('Enter Score: ')\n",
    "\n",
    "try:\n",
    "    score_input = float(score)\n",
    "\n",
    "except:\n",
    "    print('Bad Score. Please enter numeric value.')\n",
    "    quit()\n",
    "\n",
    "if score_input > 1.0 :\n",
    "    print('Bad Score. Score can not exceed 1.0.')\n",
    "    quit()\n",
    "\n",
    "grade = ''\n",
    "\n",
    "if score_input >= 0.9 :\n",
    "    grade = 'A'\n",
    "elif score_input >= 0.8 :\n",
    "    grade = 'B'\n",
    "elif score_input >= 0.7 :\n",
    "    grade = 'C'\n",
    "elif score_input >= 0.6 :\n",
    "    grade = 'D'\n",
    "else:\n",
    "    grade = 'F'\n",
    "\n",
    "print('You scored a ' + grade)"
   ]
  },
  {
   "cell_type": "markdown",
   "metadata": {},
   "source": [
    "***"
   ]
  }
 ],
 "metadata": {
  "kernelspec": {
   "display_name": "Python 3",
   "language": "python",
   "name": "python3"
  },
  "language_info": {
   "codemirror_mode": {
    "name": "ipython",
    "version": 3
   },
   "file_extension": ".py",
   "mimetype": "text/x-python",
   "name": "python",
   "nbconvert_exporter": "python",
   "pygments_lexer": "ipython3",
   "version": "3.8.3"
  }
 },
 "nbformat": 4,
 "nbformat_minor": 4
}
