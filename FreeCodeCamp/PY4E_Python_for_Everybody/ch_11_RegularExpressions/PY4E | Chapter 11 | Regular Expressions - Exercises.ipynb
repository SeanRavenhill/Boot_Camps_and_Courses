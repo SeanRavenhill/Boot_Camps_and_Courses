{
 "cells": [
  {
   "cell_type": "markdown",
   "metadata": {},
   "source": [
    "# Python for Everybody\n",
    "## Chapter 11 | Regular Expressions- Exercises\n",
    "\n",
    "https://www.py4e.com/html3/11-regex"
   ]
  },
  {
   "cell_type": "markdown",
   "metadata": {},
   "source": [
    "***"
   ]
  },
  {
   "cell_type": "markdown",
   "metadata": {},
   "source": [
    "### Exercise 1: \n",
    "\n",
    "#### Write a simple program to simulate the operation of the <font color=\"red\">***grep***</font> command on Unix. Ask the user to enter a regular expression and count the number of lines that matched the regular expression:"
   ]
  },
  {
   "cell_type": "code",
   "execution_count": null,
   "metadata": {},
   "outputs": [],
   "source": [
    "$ python grep.py\n",
    "Enter a regular expression: ^Author\n",
    "mbox.txt had 1798 lines that matched ^Author\n",
    "\n",
    "$ python grep.py\n",
    "Enter a regular expression: ^X-\n",
    "mbox.txt had 14368 lines that matched ^X-\n",
    "\n",
    "$ python grep.py\n",
    "Enter a regular expression: java$\n",
    "mbox.txt had 4175 lines that matched java$"
   ]
  },
  {
   "cell_type": "code",
   "execution_count": 1,
   "metadata": {},
   "outputs": [
    {
     "name": "stdout",
     "output_type": "stream",
     "text": [
      "Enter a regular expression: ^Author\n",
      "mbox.txt had 1798 line that matched ^Author\n"
     ]
    }
   ],
   "source": [
    "import re\n",
    "count = 0\n",
    "\n",
    "usrinput = input(\"Enter a regular expression: \")\n",
    "\n",
    "hand = open('mbox.txt')\n",
    "for line in hand:\n",
    "    line = line.rstrip()\n",
    "    if re.search(usrinput, line):\n",
    "        count = count + 1\n",
    "\n",
    "print(\"mbox.txt had \" + str(count) + \" line that matched \" + usrinput)"
   ]
  },
  {
   "cell_type": "markdown",
   "metadata": {},
   "source": [
    "***"
   ]
  },
  {
   "cell_type": "markdown",
   "metadata": {},
   "source": [
    "### Exercise 2: \n",
    "\n",
    "#### Write a program to look for lines of the form:"
   ]
  },
  {
   "cell_type": "code",
   "execution_count": null,
   "metadata": {},
   "outputs": [],
   "source": [
    "New Revision: 39772"
   ]
  },
  {
   "cell_type": "markdown",
   "metadata": {},
   "source": [
    "#### Extract the number from each of the lines using a regular expression and the <font color=\"red\">***findall()***</font> method. Compute the average of the numbers and print out the average as an integer."
   ]
  },
  {
   "cell_type": "code",
   "execution_count": null,
   "metadata": {},
   "outputs": [],
   "source": [
    "Enter file:mbox.txt\n",
    "38549\n",
    "\n",
    "Enter file:mbox-short.txt\n",
    "39756"
   ]
  },
  {
   "cell_type": "code",
   "execution_count": 3,
   "metadata": {},
   "outputs": [
    {
     "name": "stdout",
     "output_type": "stream",
     "text": [
      "Enter file: mbox.txt\n",
      "38549\n"
     ]
    }
   ],
   "source": [
    "import re\n",
    "\n",
    "fn = input(\"Enter file: \")\n",
    "if len(fn) < 1: fn = \"mbox.txt\"\n",
    "fh = open(fn)\n",
    "\n",
    "count = 0\n",
    "total = 0\n",
    "\n",
    "for line in fh:\n",
    "    line = line.rstrip()\n",
    "    x = re.findall('^New Revision: ([0-9]+)', line)\n",
    "    for n in x :\n",
    "        n = int(n)\n",
    "        total = total + n\n",
    "        count = count + 1\n",
    "\n",
    "print(int(total/count))"
   ]
  },
  {
   "cell_type": "markdown",
   "metadata": {},
   "source": [
    "***"
   ]
  },
  {
   "cell_type": "markdown",
   "metadata": {},
   "source": [
    "## Assignment 1\n",
    "### Finding Numbers in a Haystack\n",
    "\n",
    "In this assignment you will read through and parse a file with text and numbers. You will extract all the numbers in the file and compute the sum of the numbers.\n",
    "\n",
    "#### Data Files\n",
    "We provide two files for this assignment. One is a sample file where we give you the sum for your testing and the other is the actual data you need to process for the assignment.\n",
    "\n",
    "Sample data: http://py4e-data.dr-chuck.net/regex_sum_42.txt (There are 90 values with a sum=445833)<br>\n",
    "Actual data: http://py4e-data.dr-chuck.net/regex_sum_941919.txt (There are 86 values and the sum ends with 547)\n",
    "\n",
    "These links open in a new window. Make sure to save the file into the same folder as you will be writing your Python program. **Note:** Each student will have a distinct data file for the assignment - so only use your own data file for analysis.\n",
    "\n",
    "#### Data Format\n",
    "The file contains much of the text from the introduction of the textbook except that random numbers are inserted throughout the text. Here is a sample of the output you might see:"
   ]
  },
  {
   "cell_type": "code",
   "execution_count": null,
   "metadata": {},
   "outputs": [],
   "source": [
    "Why should you learn to write programs? 7746\n",
    "12 1929 8827\n",
    "Writing programs (or programming) is a very creative \n",
    "7 and rewarding activity.  You can write programs for \n",
    "many reasons, ranging from making your living to solving\n",
    "8837 a difficult data analysis problem to having fun to helping 128\n",
    "someone else solve a problem.  This book assumes that \n",
    "everyone needs to know how to program ..."
   ]
  },
  {
   "cell_type": "markdown",
   "metadata": {},
   "source": [
    "The sum for the sample text above is **27486**. The numbers can appear anywhere in the line. There can be any number of numbers in each line (including none).\n",
    "\n",
    "#### Handling The Data\n",
    "The basic outline of this problem is to read the file, look for integers using the **re.findall()**, looking for a regular expression of **'[0-9]+'** and then converting the extracted strings to integers and summing up the integers.\n",
    "\n",
    "#### Turn in Assignment\n",
    "\n",
    "Enter the sum from the actual data and your Python code below:\n",
    "\n",
    "Sum: (ends with 547)"
   ]
  },
  {
   "cell_type": "code",
   "execution_count": 1,
   "metadata": {},
   "outputs": [
    {
     "name": "stdout",
     "output_type": "stream",
     "text": [
      "Enter file: regex_sum_941919.txt\n",
      "86\n",
      "435547\n"
     ]
    }
   ],
   "source": [
    "# My program for the Assigment.\n",
    "\n",
    "import re\n",
    "\n",
    "fn = input(\"Enter file: \")\n",
    "if len(fn) < 1: fn = \"regex_sum_941919.txt\"\n",
    "fh = open(fn)\n",
    "\n",
    "count = 0\n",
    "total = 0\n",
    "\n",
    "for line in fh:\n",
    "    line = line.rstrip()\n",
    "    x = re.findall('([0-9]+)', line)\n",
    "    for n in x :\n",
    "        n = int(n)\n",
    "        total = total + n\n",
    "        count += 1\n",
    "\n",
    "print(count)\n",
    "print(total)"
   ]
  },
  {
   "cell_type": "code",
   "execution_count": 2,
   "metadata": {},
   "outputs": [
    {
     "name": "stdout",
     "output_type": "stream",
     "text": [
      "435547\n"
     ]
    }
   ],
   "source": [
    "# Redacted Code version:\n",
    "\n",
    "import re\n",
    "\n",
    "print(sum([int(i) for i in re.findall('[0-9]+',open(\"regex_sum_941919.txt\").read())]))"
   ]
  }
 ],
 "metadata": {
  "kernelspec": {
   "display_name": "Python 3",
   "language": "python",
   "name": "python3"
  },
  "language_info": {
   "codemirror_mode": {
    "name": "ipython",
    "version": 3
   },
   "file_extension": ".py",
   "mimetype": "text/x-python",
   "name": "python",
   "nbconvert_exporter": "python",
   "pygments_lexer": "ipython3",
   "version": "3.8.3"
  }
 },
 "nbformat": 4,
 "nbformat_minor": 4
}
