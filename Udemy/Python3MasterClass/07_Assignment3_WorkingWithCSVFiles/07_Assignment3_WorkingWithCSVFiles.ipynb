{
 "cells": [
  {
   "cell_type": "markdown",
   "metadata": {},
   "source": [
    "# Yellow Mission Overview"
   ]
  },
  {
   "cell_type": "markdown",
   "metadata": {},
   "source": [
    "It looks like there is information hidden within the CSV file.\n",
    "\n",
    "Extract this information and see where it leads. We're getting closer to cracking down on these rogues.\n",
    "\n",
    "Best of luck Agent!"
   ]
  },
  {
   "cell_type": "markdown",
   "metadata": {},
   "source": [
    "The next step is in the csv file , obfuscated by random data in its\n",
    "rows and columns. The next link can be found by concatenating all the\n",
    "characters of the third column of the csv file."
   ]
  },
  {
   "cell_type": "code",
   "execution_count": 2,
   "metadata": {},
   "outputs": [
    {
     "name": "stdout",
     "output_type": "stream",
     "text": [
      "https://drive.google.com/file/d/14oSxiKv35enpyyr81dDqEhkwnUONghPQ/\n",
      "info@thegoldbugs.com\n"
     ]
    }
   ],
   "source": [
    "import csv\n",
    "import PyPDF2\n",
    "import re\n",
    "\n",
    "# For the first part of the program - I imported csv to read the content of the .csv file and then used a for \n",
    "# loop and string concatenation to build a string of all the characters of the third column of the .csv file\n",
    "# to print out the URL link.\n",
    "\n",
    "link = ''\n",
    "\n",
    "data = open('download_link.csv' ,encoding=\"utf-8\")\n",
    "csv_data = csv.reader(data)\n",
    "data_lines = list(csv_data)\n",
    "for line in data_lines:\n",
    "    link += line[2]\n",
    "\n",
    "print(link)\n",
    "\n",
    "# For the second part of the program - After manually downloading the file by visiting the URL link. \n",
    "# I extracted text from the .pdf by importing and using PyPDF2 with a for loop to iterate through and\n",
    "# append to an empty list. Then I imported and used regular expressions to find a string that\n",
    "# starts with alphanumeric characters, underscores, dashes or \"wild card\" characters, separated by an\n",
    "# @ symbol, followed by another string of alphanumeric characters, underscores, dashes or \"wild card\"\n",
    "# characters and finally ending with .com. Using an if control loop to continue to run the search until\n",
    "# a string matching those parameters was found, which then concatenated that list to a string.\n",
    "# Finally printing the string\n",
    "\n",
    "pdf_text = []\n",
    "\n",
    "pdf_file = open('Contact_Email_Information.pdf','rb')\n",
    "pdf_reader = PyPDF2.PdfFileReader(pdf_file)\n",
    "for p in range(pdf_reader.numPages):\n",
    "    page = pdf_reader.getPage(p)\n",
    "    pdf_text.append(page.extractText())\n",
    "\n",
    "email_address = ''        \n",
    "        \n",
    "for emails in pdf_text:\n",
    "    search = re.findall(r'[\\w_.-]+@[\\w_.-]+.com', emails)\n",
    "    if search == []:\n",
    "        continue\n",
    "    else:\n",
    "        email_address += search[0]\n",
    "\n",
    "print(email_address)"
   ]
  },
  {
   "cell_type": "code",
   "execution_count": null,
   "metadata": {},
   "outputs": [],
   "source": []
  }
 ],
 "metadata": {
  "anaconda-cloud": {},
  "kernelspec": {
   "display_name": "Python 3",
   "language": "python",
   "name": "python3"
  },
  "language_info": {
   "codemirror_mode": {
    "name": "ipython",
    "version": 3
   },
   "file_extension": ".py",
   "mimetype": "text/x-python",
   "name": "python",
   "nbconvert_exporter": "python",
   "pygments_lexer": "ipython3",
   "version": "3.8.3"
  }
 },
 "nbformat": 4,
 "nbformat_minor": 2
}
