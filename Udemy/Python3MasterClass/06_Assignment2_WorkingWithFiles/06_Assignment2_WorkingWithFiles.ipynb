{
 "cells": [
  {
   "cell_type": "markdown",
   "metadata": {},
   "source": [
    "# Orange Mission\n"
   ]
  },
  {
   "cell_type": "markdown",
   "metadata": {
    "collapsed": true
   },
   "source": [
    "Using the hidden link in the blog post, it looks like we have a new riddle to solve. Download and unzip the file from the link.\n",
    "\n",
    "Let's see what we can figure out from it.\n",
    "\n",
    "Best of luck Agent!"
   ]
  },
  {
   "cell_type": "code",
   "execution_count": 8,
   "metadata": {},
   "outputs": [
    {
     "name": "stdout",
     "output_type": "stream",
     "text": [
      "https://drive.google.com/open?id=1tWJBFrSQL06qTZgkohs4t_a5Cu84AheLo\n",
      "https://docs.google.com/document/d/Q-DcxM17nJm_El0aGsNnY7FajaogRviwja/edit\n",
      "https://drive.google.com/file/d/17nJm_El0aGsNvaMZtnY7FajaogRviwja/view?usp=sharing\n",
      "https://docs.google.com/document/d/1tWJBFrSQL06qTZgkohs4t_a5Cu84AheLocWTXQ-DcxM/edit?usp=sharing\n"
     ]
    }
   ],
   "source": [
    "# In this solution we assume we unzipped the .zip file via our OS GUI in a window/tab rather than using our program\n",
    "# to extract the files from the .zip file. I also coded the regular expression search into the for loop.\n",
    "\n",
    "import re\n",
    "import os\n",
    "\n",
    "results = []\n",
    "\n",
    "for folder , sub_folders , files in os.walk(os.getcwd() + '/unzip_me_for_instructions'):\n",
    "    \n",
    "    for f in files:\n",
    "        full_path = folder + '/' + f\n",
    "        file = open(full_path)\n",
    "        for text in file:\n",
    "            search = re.findall(r'https://[-?_=./\\w]+', text)\n",
    "            if search == []:\n",
    "                continue\n",
    "            else: results.append(search)\n",
    "            \n",
    "for link in results[2:]:\n",
    "    print(''.join(link))"
   ]
  },
  {
   "cell_type": "markdown",
   "metadata": {},
   "source": [
    "-------------"
   ]
  },
  {
   "cell_type": "markdown",
   "metadata": {},
   "source": [
    "# Alternative Solution"
   ]
  },
  {
   "cell_type": "code",
   "execution_count": 89,
   "metadata": {},
   "outputs": [
    {
     "name": "stdout",
     "output_type": "stream",
     "text": [
      "https://drive.google.com/file/d/17nJm_El0aGsNvaMZtnY7FajaogRviwja/view?usp=sharing\n",
      "https://docs.google.com/document/d/1tWJBFrSQL06qTZgkohs4t_a5Cu84AheLocWTXQ-DcxM/edit?usp=sharing\n"
     ]
    }
   ],
   "source": [
    "# In this solution we use python to extract the .zip file to a new folder in the directory\n",
    "# and then to walk through the files and use regular expressions to find the html addresses hidden in the\n",
    "# text files. Here I created a function to handle the regular expression search.\n",
    "\n",
    "import shutil\n",
    "import re\n",
    "import os\n",
    "\n",
    "\n",
    "shutil.unpack_archive('unzip_me_for_instructions.zip','unzip_me_for_instructions_2','zip')\n",
    "\n",
    "def search(file, pattern = r'https://[-?_=./\\w]+'):\n",
    "    f = open(file,'r')\n",
    "    text = f.read()\n",
    "    \n",
    "    if re.findall(pattern, text):\n",
    "        return re.findall(pattern, text)\n",
    "    else:\n",
    "        return ''\n",
    "\n",
    "results = []\n",
    "\n",
    "for folder , sub_folders , files in os.walk(os.getcwd()+'/unzip_me_for_instructions_2'):\n",
    "    \n",
    "    for f in files:\n",
    "        full_path = folder +'/' + f\n",
    "         \n",
    "        results.append(search(full_path))\n",
    "        \n",
    "address = []\n",
    "\n",
    "for r in results:\n",
    "    if r != '':\n",
    "        for add in r:\n",
    "            address.append(add[0:])\n",
    "            \n",
    "for add in address[2:]:\n",
    "    print(add)"
   ]
  }
 ],
 "metadata": {
  "anaconda-cloud": {},
  "kernelspec": {
   "display_name": "Python 3",
   "language": "python",
   "name": "python3"
  },
  "language_info": {
   "codemirror_mode": {
    "name": "ipython",
    "version": 3
   },
   "file_extension": ".py",
   "mimetype": "text/x-python",
   "name": "python",
   "nbconvert_exporter": "python",
   "pygments_lexer": "ipython3",
   "version": "3.8.3"
  }
 },
 "nbformat": 4,
 "nbformat_minor": 2
}
