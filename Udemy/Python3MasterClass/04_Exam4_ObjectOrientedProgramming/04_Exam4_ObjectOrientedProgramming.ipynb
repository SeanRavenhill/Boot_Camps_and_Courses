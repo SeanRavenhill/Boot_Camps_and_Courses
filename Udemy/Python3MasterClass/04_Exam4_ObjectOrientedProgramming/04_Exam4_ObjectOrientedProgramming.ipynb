{
 "cells": [
  {
   "cell_type": "markdown",
   "metadata": {
    "collapsed": true
   },
   "source": [
    "# Final Field Readiness Test \n",
    "\n",
    "** For this test you will be using Object Oriented Programming to create an object that uses a modified Ceaser Cipher. Check out the video for an explanation of how the object will work. The basic idea is the following, given a message such as \"hello world\", the encryption should perform the following steps:**\n",
    "\n",
    "** The encryption method you will create: **\n",
    "\n",
    "1. Accept a string, such as: \"hello world\"\n",
    "2. Add in a random letter in every other index position in the string, for example: 'hueqlzlpom cwgosrhlbdg'\n",
    "3. Then reverse this string, for example: 'gdblhrsogwc moplzlqeuh'\n",
    "4. Then create a shuffled version of the alphabet (remember to set a seed to the random.seed() so you can get this shuffled version again by providing the same seed number).\n",
    "5. Just like a classic ceaser cipher, match up the index of each letter and then encrypt the letters using this shuffled alphabet.\n",
    "\n",
    "The end result will be a string something like \"divgkjocdze bcrgqghywk\" for our previous example.\n",
    "\n",
    "To decrypt this, reverse the steps. The hardest step to reverse is the randomized shuffling of the alphabet, to regain the same shuffling, you will need the seed key. The method for the decryption will accept this as an argument.\n",
    "\n",
    "The \"skeleton\" of the code has been outlined for you to fill out below. Best of luck!"
   ]
  },
  {
   "cell_type": "code",
   "execution_count": 4,
   "metadata": {
    "collapsed": true
   },
   "outputs": [],
   "source": [
    "# Imports you might need\n",
    "import string\n",
    "import random"
   ]
  },
  {
   "cell_type": "code",
   "execution_count": 1,
   "metadata": {},
   "outputs": [],
   "source": [
    "import string\n",
    "import random\n",
    "\n",
    "class Encryption():\n",
    "    \n",
    "    def __init__(self, seed):\n",
    "        \n",
    "        # Set a random seed and a self.seed attribute\n",
    "        # This sets the random seed number. So in the encryption method, the same randoms are always generated.\n",
    "        self.seed = seed\n",
    "        random.seed(self.seed)\n",
    "        \n",
    "        # Create an empty string attribute to hold the encrypted phrase\n",
    "        #self.encrypted_phrase = ''\n",
    "        \n",
    "        # Use the string and random libraries to create two attributes\n",
    "        # One is the correct alphabet, another is a shuffled alphabet (hint: random.sample())\n",
    "        self.alphabet = string.ascii_lowercase\n",
    "        self.random_alphabet = ''.join(random.sample(self.alphabet, 26))\n",
    "        #print(self.random_alphabet)\n",
    "        \n",
    "    def encryption(self, message):\n",
    "        \n",
    "        ################################################################\n",
    "        ### STEP 1: REPLACE EVERY OTHER LETTER WITH A RANDOM LETTER ###\n",
    "        ##############################################################\n",
    "        \n",
    "        self.message = message\n",
    "        \n",
    "        self.message_rand_char = []\n",
    "        \n",
    "        for i, char in enumerate(self.message.lower()):\n",
    "            self.message_rand_char.append(char)\n",
    "            if i % 2 == 0:\n",
    "                original_index = self.message.index(char)\n",
    "                random_char = self.random_alphabet[original_index]\n",
    "                self.message_rand_char.append(random_char)\n",
    "            else:\n",
    "                original_index = self.message.index(char)\n",
    "                random_char = self.random_alphabet[original_index]\n",
    "                self.message_rand_char.append(random_char)\n",
    "        \n",
    "        #################################################\n",
    "        ### STEP 2: REVERSE THE STRING  ################\n",
    "        ##############################################\n",
    "        \n",
    "        self.phrase_reverse = ''.join(self.message_rand_char[::-1])\n",
    "        \n",
    "        ##########################################################################\n",
    "        ##### STEP 3: USE THE RANDOM SHUFFLED ALPHABET FOR A CEASER CIPHER ######\n",
    "        ########################################################################\n",
    "        \n",
    "        self.encrypted_phrase = list(range(len(self.phrase_reverse)))\n",
    "        \n",
    "        for i, char in enumerate(self.phrase_reverse.lower()):\n",
    "            if char in self.alphabet:\n",
    "                original_index = self.alphabet.index(char)\n",
    "                new_char = self.random_alphabet[original_index]\n",
    "                self.encrypted_phrase[i] = new_char\n",
    "            else:\n",
    "                self.encrypted_phrase[i] = char\n",
    "                \n",
    "        return ''.join(self.encrypted_phrase)\n",
    "    \n",
    "    def decryption(self, message, seed):\n",
    "        \n",
    "        self.seed = seed\n",
    "        random.seed(self.seed)\n",
    "        self.message = message.lower()\n",
    "        self.alphabet = string.ascii_lowercase\n",
    "        self.random_alphabet = ''.join(random.sample(self.alphabet, 26))\n",
    "        \n",
    "        self.decrypted_phrase = list(range(len(self.message)))\n",
    "        \n",
    "        for i, char in enumerate(self.message):\n",
    "            if char in self.alphabet:\n",
    "                index = self.random_alphabet.index(char)\n",
    "                original_char = self.alphabet[index]\n",
    "                self.decrypted_phrase[i] = original_char\n",
    "            else:\n",
    "                self.decrypted_phrase[i] = char\n",
    "                \n",
    "        self.decrypted_phrase_reverse = ''.join(self.decrypted_phrase[::-1])\n",
    "        \n",
    "        self.decrypted_phrase_rand_char_remove = []\n",
    "        \n",
    "        for i, char in enumerate(self.decrypted_phrase_reverse):\n",
    "            if i % 2 == 0:\n",
    "                original_index = self.decrypted_phrase_reverse.index(char)\n",
    "                self.decrypted_phrase_rand_char_remove.append(char)\n",
    "                \n",
    "        return ''.join(self.decrypted_phrase_rand_char_remove)"
   ]
  },
  {
   "cell_type": "code",
   "execution_count": 2,
   "metadata": {},
   "outputs": [],
   "source": [
    "e = Encryption(20)"
   ]
  },
  {
   "cell_type": "code",
   "execution_count": 7,
   "metadata": {},
   "outputs": [
    {
     "data": {
      "text/plain": [
       "'piygujtcizw tcygyglysk'"
      ]
     },
     "execution_count": 7,
     "metadata": {},
     "output_type": "execute_result"
    }
   ],
   "source": [
    "e.encryption('hello world')"
   ]
  },
  {
   "cell_type": "code",
   "execution_count": 8,
   "metadata": {},
   "outputs": [
    {
     "data": {
      "text/plain": [
       "'hello world'"
      ]
     },
     "execution_count": 8,
     "metadata": {},
     "output_type": "execute_result"
    }
   ],
   "source": [
    "e.decryption('piygujtcizw tcygyglysk',20)"
   ]
  }
 ],
 "metadata": {
  "kernelspec": {
   "display_name": "Python 3",
   "language": "python",
   "name": "python3"
  },
  "language_info": {
   "codemirror_mode": {
    "name": "ipython",
    "version": 3
   },
   "file_extension": ".py",
   "mimetype": "text/x-python",
   "name": "python",
   "nbconvert_exporter": "python",
   "pygments_lexer": "ipython3",
   "version": "3.8.3"
  }
 },
 "nbformat": 4,
 "nbformat_minor": 2
}
