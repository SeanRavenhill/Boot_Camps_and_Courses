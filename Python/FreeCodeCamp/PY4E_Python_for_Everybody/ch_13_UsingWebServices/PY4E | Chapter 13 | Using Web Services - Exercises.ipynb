{
 "cells": [
  {
   "cell_type": "markdown",
   "metadata": {},
   "source": [
    "# Python for Everybody\n",
    "## Chapter 13 | Using Web Services - Exercises\n",
    "\n",
    "https://www.py4e.com/html3/13-web"
   ]
  },
  {
   "cell_type": "markdown",
   "metadata": {},
   "source": [
    "***"
   ]
  },
  {
   "cell_type": "markdown",
   "metadata": {},
   "source": [
    "### Exercise 1: \n",
    "\n",
    "#### Change either <font color=\"red\">***geojson.py***</font> or <font color=\"red\">***geoxml.py***</font> to print out the two-character country code from the retrieved data. Add error checking so your program does not traceback if the country code is not there. Once you have it working, search for “Atlantic Ocean” and make sure it can handle locations that are not in any country.\n",
    "\n",
    "#### Source Codes:"
   ]
  },
  {
   "cell_type": "code",
   "execution_count": null,
   "metadata": {},
   "outputs": [],
   "source": [
    "# geojson.py - Source Code\n",
    "\n",
    "import urllib.request, urllib.parse, urllib.error\n",
    "import json\n",
    "import ssl\n",
    "\n",
    "api_key = False\n",
    "# If you have a Google Places API key, enter it here\n",
    "# api_key = 'AIzaSy___IDByT70'\n",
    "# https://developers.google.com/maps/documentation/geocoding/intro\n",
    "\n",
    "if api_key is False:\n",
    "    api_key = 42\n",
    "    serviceurl = 'http://py4e-data.dr-chuck.net/json?'\n",
    "else :\n",
    "    serviceurl = 'https://maps.googleapis.com/maps/api/geocode/json?'\n",
    "\n",
    "# Ignore SSL certificate errors\n",
    "ctx = ssl.create_default_context()\n",
    "ctx.check_hostname = False\n",
    "ctx.verify_mode = ssl.CERT_NONE\n",
    "\n",
    "while True:\n",
    "    address = input('Enter location: ')\n",
    "    if len(address) < 1: break\n",
    "\n",
    "    parms = dict()\n",
    "    parms['address'] = address\n",
    "    if api_key is not False: parms['key'] = api_key\n",
    "    url = serviceurl + urllib.parse.urlencode(parms)\n",
    "\n",
    "    print('Retrieving', url)\n",
    "    uh = urllib.request.urlopen(url, context=ctx)\n",
    "    data = uh.read().decode()\n",
    "    print('Retrieved', len(data), 'characters')\n",
    "\n",
    "    try:\n",
    "        js = json.loads(data)\n",
    "    except:\n",
    "        js = None\n",
    "\n",
    "    if not js or 'status' not in js or js['status'] != 'OK':\n",
    "        print('==== Failure To Retrieve ====')\n",
    "        print(data)\n",
    "        continue\n",
    "\n",
    "    print(json.dumps(js, indent=4))\n",
    "\n",
    "    lat = js['results'][0]['geometry']['location']['lat']\n",
    "    lng = js['results'][0]['geometry']['location']['lng']\n",
    "    print('lat', lat, 'lng', lng)\n",
    "    location = js['results'][0]['formatted_address']\n",
    "    print(location)\n"
   ]
  },
  {
   "cell_type": "code",
   "execution_count": null,
   "metadata": {},
   "outputs": [],
   "source": [
    "# geoxml.py - Source Code\n",
    "\n",
    "import urllib.request, urllib.parse, urllib.error\n",
    "import xml.etree.ElementTree as ET\n",
    "import ssl\n",
    "\n",
    "api_key = False\n",
    "# If you have a Google Places API key, enter it here\n",
    "# api_key = 'AIzaSy___IDByT70'\n",
    "# https://developers.google.com/maps/documentation/geocoding/intro\n",
    "\n",
    "if api_key is False:\n",
    "    api_key = 42\n",
    "    serviceurl = 'http://py4e-data.dr-chuck.net/xml?'\n",
    "else :\n",
    "    serviceurl = 'https://maps.googleapis.com/maps/api/geocode/xml?'\n",
    "\n",
    "# Ignore SSL certificate errors\n",
    "ctx = ssl.create_default_context()\n",
    "ctx.check_hostname = False\n",
    "ctx.verify_mode = ssl.CERT_NONE\n",
    "\n",
    "while True:\n",
    "    address = input('Enter location: ')\n",
    "    if len(address) < 1: break\n",
    "\n",
    "    parms = dict()\n",
    "    parms['address'] = address\n",
    "    if api_key is not False: parms['key'] = api_key\n",
    "    url = serviceurl + urllib.parse.urlencode(parms)\n",
    "    print('Retrieving', url)\n",
    "    uh = urllib.request.urlopen(url, context=ctx)\n",
    "\n",
    "    data = uh.read()\n",
    "    print('Retrieved', len(data), 'characters')\n",
    "    print(data.decode())\n",
    "    tree = ET.fromstring(data)\n",
    "\n",
    "    results = tree.findall('result')\n",
    "    lat = results[0].find('geometry').find('location').find('lat').text\n",
    "    lng = results[0].find('geometry').find('location').find('lng').text\n",
    "    location = results[0].find('formatted_address').text\n",
    "\n",
    "    print('lat', lat, 'lng', lng)\n",
    "    print(location)\n"
   ]
  },
  {
   "cell_type": "markdown",
   "metadata": {},
   "source": [
    "#### Edited Code:"
   ]
  },
  {
   "cell_type": "code",
   "execution_count": 4,
   "metadata": {},
   "outputs": [
    {
     "name": "stdout",
     "output_type": "stream",
     "text": [
      "Enter location: South Africa\n",
      "Retrieving http://py4e-data.dr-chuck.net/json?address=South+Africa&key=42\n",
      "Retrieved 1185 characters\n",
      "----------\n",
      "Country Code: ZA\n",
      "Location: South Africa\n",
      "\n",
      "\n",
      "Enter location: BErlin\n",
      "Retrieving http://py4e-data.dr-chuck.net/json?address=BErlin&key=42\n",
      "Retrieved 1524 characters\n",
      "----------\n",
      "Country Code: DE\n",
      "Location: Berlin, Germany\n",
      "\n",
      "\n",
      "Enter location: Cape Town\n",
      "Retrieving http://py4e-data.dr-chuck.net/json?address=Cape+Town&key=42\n",
      "Retrieved 1726 characters\n",
      "----------\n",
      "Country Code: ZA\n",
      "Location: Cape Town, South Africa\n",
      "\n",
      "\n",
      "Enter location: Ann Arbor\n",
      "Retrieving http://py4e-data.dr-chuck.net/json?address=Ann+Arbor&key=42\n",
      "Retrieved 1736 characters\n",
      "----------\n",
      "Country Code: US\n",
      "Location: Ann Arbor, MI, USA\n",
      "\n",
      "\n",
      "Enter location: done\n",
      "Program ended. Thank you.\n"
     ]
    }
   ],
   "source": [
    "# geojson.py - Edited Code\n",
    "\n",
    "import urllib.request, urllib.parse, urllib.error\n",
    "import json\n",
    "import ssl\n",
    "\n",
    "api_key = 42\n",
    "serviceurl = 'http://py4e-data.dr-chuck.net/json?'\n",
    "\n",
    "# Ignore SSL certificate errors\n",
    "ctx = ssl.create_default_context()\n",
    "ctx.check_hostname = False\n",
    "ctx.verify_mode = ssl.CERT_NONE\n",
    "\n",
    "while True:\n",
    "    address = input('Enter location: ')\n",
    "    if len(address) < 1 or address.lower() == 'done':\n",
    "        print('Program ended. Thank you.')\n",
    "        break\n",
    "\n",
    "    parms = dict()\n",
    "    parms['address'] = address\n",
    "    if api_key is not False: parms['key'] = api_key\n",
    "    url = serviceurl + urllib.parse.urlencode(parms)\n",
    "\n",
    "    print('Retrieving', url)\n",
    "    uh = urllib.request.urlopen(url, context=ctx)\n",
    "    data = uh.read().decode()\n",
    "    print('Retrieved', len(data), 'characters')\n",
    "\n",
    "    try:\n",
    "        js = json.loads(data)\n",
    "    except:\n",
    "        js = None\n",
    "\n",
    "    if not js or 'status' not in js or js['status'] != 'OK':\n",
    "        print('==== Failure To Retrieve ====')\n",
    "        print(data)\n",
    "        continue\n",
    "    \n",
    "    # Edits starts Here:\n",
    "    \n",
    "    address_comps = js['results'][0]\n",
    "    comps = address_comps['address_components']\n",
    "    country = False\n",
    "    \n",
    "    try:\n",
    "        for i in comps:\n",
    "            types = i['types']\n",
    "            if types == [\"country\", \"political\"]:\n",
    "                country = True\n",
    "                print('----------')\n",
    "                print(\"Country Code:\", i[\"short_name\"])\n",
    "                print('Location:', address_comps['formatted_address'])\n",
    "                print('\\n')\n",
    "        if country == False:\n",
    "            raise Exception\n",
    "    \n",
    "    except:\n",
    "        print('----------')\n",
    "        print('This location does not fall within continental borders.')\n",
    "        print('Location:', address_comps['formatted_address'])\n",
    "        print('\\n')"
   ]
  },
  {
   "cell_type": "code",
   "execution_count": 17,
   "metadata": {},
   "outputs": [
    {
     "name": "stdout",
     "output_type": "stream",
     "text": [
      "Enter location: Michigan\n",
      "Retrieving http://py4e-data.dr-chuck.net/xml?address=Michigan&key=42\n",
      "Retrieved 1200 characters\n",
      "----------\n",
      "Country Code: US\n",
      "Location: Michigan, USA\n",
      "\n",
      "\n",
      "Enter location: Cape Town\n",
      "Retrieving http://py4e-data.dr-chuck.net/xml?address=Cape+Town&key=42\n",
      "Retrieved 1553 characters\n",
      "----------\n",
      "Country Code: ZA\n",
      "Location: Cape Town, South Africa\n",
      "\n",
      "\n",
      "Enter location: South Africa\n",
      "Retrieving http://py4e-data.dr-chuck.net/xml?address=South+Africa&key=42\n",
      "Retrieved 997 characters\n",
      "----------\n",
      "Country Code: ZA\n",
      "Location: South Africa\n",
      "\n",
      "\n",
      "Enter location: Atlantic Ocean\n",
      "Retrieving http://py4e-data.dr-chuck.net/xml?address=Atlantic+Ocean&key=42\n",
      "Retrieved 1038 characters\n",
      "----------\n",
      "This location does not fall within continental borders.\n",
      "Location: Atlantic Ocean\n",
      "\n",
      "\n",
      "Enter location: Indian Ocean\n",
      "Retrieving http://py4e-data.dr-chuck.net/xml?address=Indian+Ocean&key=42\n",
      "Retrieved 1031 characters\n",
      "----------\n",
      "This location does not fall within continental borders.\n",
      "Location: Indian Ocean\n",
      "\n",
      "\n",
      "Enter location: done\n",
      "Program ended. Thank you.\n"
     ]
    }
   ],
   "source": [
    "# geoxml.py - Edited Code\n",
    "\n",
    "import urllib.request, urllib.parse, urllib.error\n",
    "import xml.etree.ElementTree as ET\n",
    "import ssl\n",
    "\n",
    "api_key = 42\n",
    "serviceurl = 'http://py4e-data.dr-chuck.net/xml?'\n",
    "\n",
    "# Ignore SSL certificate errors\n",
    "ctx = ssl.create_default_context()\n",
    "ctx.check_hostname = False\n",
    "ctx.verify_mode = ssl.CERT_NONE\n",
    "\n",
    "while True:\n",
    "    address = input('Enter location: ')\n",
    "    if len(address) < 1 or address.lower() == 'done':\n",
    "        print('Program ended. Thank you.')\n",
    "        break\n",
    "\n",
    "    parms = dict()\n",
    "    parms['address'] = address\n",
    "    if api_key is not False: parms['key'] = api_key\n",
    "    url = serviceurl + urllib.parse.urlencode(parms)\n",
    "    print('Retrieving', url)\n",
    "    uh = urllib.request.urlopen(url, context=ctx)\n",
    "\n",
    "    data = uh.read()\n",
    "    print('Retrieved', len(data), 'characters')\n",
    "    tree = ET.fromstring(data)\n",
    "    \n",
    "    # Edits starts Here:\n",
    "    \n",
    "    address_comps = tree.findall('result/address_component')\n",
    "    comps = address_comps[0:]\n",
    "    country = False\n",
    "    \n",
    "    try:\n",
    "        for parent in comps:\n",
    "            types = parent.findall('.//type')\n",
    "            for child in types:\n",
    "                if child.text == 'country':\n",
    "                    country = True\n",
    "                    print('----------')\n",
    "                    print(\"Country Code:\", parent.find('short_name').text)\n",
    "                    print('Location:', tree.findall('result/formatted_address')[0].text)\n",
    "                    print('\\n')\n",
    "        if country == False:\n",
    "            raise Exception\n",
    "    except:\n",
    "        print('----------')\n",
    "        print('This location does not fall within continental borders.')\n",
    "        print('Location:', tree.findall('result/formatted_address')[0].text)\n",
    "        print('\\n')"
   ]
  },
  {
   "cell_type": "markdown",
   "metadata": {},
   "source": [
    "***"
   ]
  },
  {
   "cell_type": "markdown",
   "metadata": {},
   "source": [
    "## Assignment 1\n",
    "### Extracting Data from XML\n",
    "\n",
    "In this assignment you will write a Python program somewhat similar to http://www.py4e.com/code3/geoxml.py. The program will prompt for a URL, read the XML data from that URL using **urllib** and then parse and extract the comment counts from the XML data, compute the sum of the numbers in the file.\n",
    "\n",
    "We provide two files for this assignment. One is a sample file where we give you the sum for your testing and the other is the actual data you need to process for the assignment.\n",
    "\n",
    "- Sample data: http://py4e-data.dr-chuck.net/comments_42.xml (Sum=2553)<br>\n",
    "- Actual data: http://py4e-data.dr-chuck.net/comments_941923.xml (Sum ends with 14)\n",
    "\n",
    "You do not need to save these files to your folder since your program will read the data directly from the URL. **Note:** Each student will have a distinct data url for the assignment - so only use your own data url for analysis.\n",
    "\n",
    "**Data Format and Approach**\n",
    "\n",
    "The data consists of a number of names and comment counts in XML as follows:"
   ]
  },
  {
   "cell_type": "code",
   "execution_count": null,
   "metadata": {},
   "outputs": [],
   "source": [
    "<comment>\n",
    "  <name>Matthias</name>\n",
    "  <count>97</count>\n",
    "</comment>"
   ]
  },
  {
   "cell_type": "markdown",
   "metadata": {},
   "source": [
    "You are to look through all the < comment > tags and find the < count > values sum the numbers. The closest sample code that shows how to parse XML is <a href=\"https://www.py4e.com/tools/python-data/?PHPSESSID=a74f64eba639bda88992b818c1ea20a3\">geoxml.py</a>. But since the nesting of the elements in our data is different than the data we are parsing in that sample code you will have to make real changes to the code.\n",
    "\n",
    "To make the code a little simpler, you can use an XPath selector string to look through the entire tree of XML for any tag named 'count' with the following line of code:"
   ]
  },
  {
   "cell_type": "code",
   "execution_count": null,
   "metadata": {},
   "outputs": [],
   "source": [
    "counts = tree.findall('.//count')"
   ]
  },
  {
   "cell_type": "markdown",
   "metadata": {},
   "source": [
    "Take a look at the Python ElementTree documentation and look for the supported XPath syntax for details. You could also work from the top of the XML down to the comments node and then loop through the child nodes of the comments node.\n",
    "\n",
    "**Sample Execution**"
   ]
  },
  {
   "cell_type": "code",
   "execution_count": null,
   "metadata": {},
   "outputs": [],
   "source": [
    "$ python3 solution.py\n",
    "Enter location: http://py4e-data.dr-chuck.net/comments_42.xml\n",
    "Retrieving http://py4e-data.dr-chuck.net/comments_42.xml\n",
    "Retrieved 4189 characters\n",
    "Count: 50\n",
    "Sum: 2..."
   ]
  },
  {
   "cell_type": "markdown",
   "metadata": {},
   "source": [
    "**Turning in the Assignment**\n",
    "\n",
    "Enter the sum from the actual data and your Python code below:\n",
    "\n",
    "Sum: (ends with 14)"
   ]
  },
  {
   "cell_type": "code",
   "execution_count": 7,
   "metadata": {},
   "outputs": [
    {
     "name": "stdout",
     "output_type": "stream",
     "text": [
      "Enter XML URL: http://py4e-data.dr-chuck.net/comments_941923.xml\n",
      "\n",
      "\n",
      "Retrieving http://py4e-data.dr-chuck.net/comments_941923.xml\n",
      "Retrieved 4238 characters\n",
      "\n",
      "\n",
      "2614\n"
     ]
    }
   ],
   "source": [
    "# Sean Ravenhill - program for the assignment.\n",
    "\n",
    "import urllib.request, urllib.parse, urllib.error\n",
    "import xml.etree.ElementTree as ET\n",
    "import ssl\n",
    "\n",
    "# Ignore SSL certificate errors\n",
    "ctx = ssl.create_default_context()\n",
    "ctx.check_hostname = False\n",
    "ctx.verify_mode = ssl.CERT_NONE\n",
    "\n",
    "counts = 0\n",
    "\n",
    "while True:\n",
    "    url = input('Enter XML URL: ')\n",
    "    print('\\n')\n",
    "    if url.lower() == 'done':\n",
    "        print(\"Program Ended. Thank You.\")\n",
    "        break\n",
    "    elif len(url) < 1 or '.xml' not in url:\n",
    "        print('Please enter a valid url with an .xml suffix')\n",
    "        print('\\n')\n",
    "        continue\n",
    "    \n",
    "    else:    \n",
    "        print('Retrieving', url)\n",
    "        uh = urllib.request.urlopen(url, context=ctx)\n",
    "\n",
    "        data = uh.read()\n",
    "        print('Retrieved', len(data), 'characters')\n",
    "        tree = ET.fromstring(data)\n",
    "        \n",
    "        lst = tree.findall('.//count')\n",
    "        \n",
    "        for child in lst:\n",
    "            counts += int(child.text)\n",
    "            \n",
    "        print('\\n')\n",
    "        print(counts)\n",
    "        \n",
    "        break"
   ]
  },
  {
   "cell_type": "markdown",
   "metadata": {},
   "source": [
    "***"
   ]
  },
  {
   "cell_type": "markdown",
   "metadata": {},
   "source": [
    "## Assignment 2\n",
    "### Extracting Data from JSON\n",
    "\n",
    "In this assignment you will write a Python program somewhat similar to http://www.py4e.com/code3/json2.py. The program will prompt for a URL, read the JSON data from that URL using **urllib** and then parse and extract the comment counts from the JSON data, compute the sum of the numbers in the file and enter the sum below:\n",
    "\n",
    "We provide two files for this assignment. One is a sample file where we give you the sum for your testing and the other is the actual data you need to process for the assignment.\n",
    "\n",
    "- Sample data: http://py4e-data.dr-chuck.net/comments_42.json (Sum=2553)<br>\n",
    "- Actual data: http://py4e-data.dr-chuck.net/comments_941924.json (Sum ends with 65)\n",
    "\n",
    "You do not need to save these files to your folder since your program will read the data directly from the URL. **Note:** Each student will have a distinct data url for the assignment - so only use your own data url for analysis.\n",
    "\n",
    "**Data Format**\n",
    "\n",
    "The data consists of a number of names and comment counts in JSON as follows:"
   ]
  },
  {
   "cell_type": "code",
   "execution_count": null,
   "metadata": {},
   "outputs": [],
   "source": [
    "{\n",
    "  comments: [\n",
    "    {\n",
    "      name: \"Matthias\"\n",
    "      count: 97\n",
    "    },\n",
    "    {\n",
    "      name: \"Geomer\"\n",
    "      count: 97\n",
    "    }\n",
    "    ...\n",
    "  ]\n",
    "}"
   ]
  },
  {
   "cell_type": "markdown",
   "metadata": {},
   "source": [
    "The closest sample code that shows how to parse JSON and extract a list is <a href=\"https://www.py4e.com/code3/json2.py?PHPSESSID=bc214bf945d623794ca0d3ab4ab1a2cf\">json2.py</a>. You might also want to look at <a href=\"https://www.py4e.com/code3/geoxml.py?PHPSESSID=bc214bf945d623794ca0d3ab4ab1a2cf\">geoxml.py</a> to see how to prompt for a URL and retrieve data from a URL.\n",
    "\n",
    "**Sample Execution**"
   ]
  },
  {
   "cell_type": "code",
   "execution_count": null,
   "metadata": {},
   "outputs": [],
   "source": [
    "$ python3 solution.py\n",
    "Enter location: http://py4e-data.dr-chuck.net/comments_42.json\n",
    "Retrieving http://py4e-data.dr-chuck.net/comments_42.json\n",
    "Retrieved 2733 characters\n",
    "Count: 50\n",
    "Sum: 2..."
   ]
  },
  {
   "cell_type": "markdown",
   "metadata": {},
   "source": [
    "**Turning in the Assignment**\n",
    "\n",
    "Enter the sum from the actual data and your Python code below:\n",
    "\n",
    "Sum: (ends with 65)"
   ]
  },
  {
   "cell_type": "code",
   "execution_count": 21,
   "metadata": {},
   "outputs": [
    {
     "name": "stdout",
     "output_type": "stream",
     "text": [
      "Enter JSON URL: http://py4e-data.dr-chuck.net/comments_941924.json\n",
      "\n",
      "\n",
      "Retrieving http://py4e-data.dr-chuck.net/comments_941924.json\n",
      "Retrieved 2728 characters\n",
      "2665\n"
     ]
    }
   ],
   "source": [
    "# Sean Ravenhill - program for the assignment.\n",
    "\n",
    "import urllib.request, urllib.parse, urllib.error\n",
    "import json\n",
    "import ssl\n",
    "\n",
    "# Ignore SSL certificate errors\n",
    "ctx = ssl.create_default_context()\n",
    "ctx.check_hostname = False\n",
    "ctx.verify_mode = ssl.CERT_NONE\n",
    "\n",
    "counts = 0\n",
    "\n",
    "while True:\n",
    "    url = input('Enter JSON URL: ')\n",
    "    print('\\n')\n",
    "    if url.lower() == 'done':\n",
    "        print(\"Program Ended. Thank You.\")\n",
    "        break\n",
    "    elif len(url) < 1 or '.json' not in url:\n",
    "        print('Please enter a valid url with an .json suffix')\n",
    "        print('\\n')\n",
    "        continue\n",
    "    \n",
    "    else:    \n",
    "        print('Retrieving', url)\n",
    "        uh = urllib.request.urlopen(url, context=ctx)\n",
    "        data = uh.read()\n",
    "        print('Retrieved', len(data), 'characters')\n",
    "        info = json.loads(data)\n",
    "\n",
    "        \n",
    "        for a, b in info.items():\n",
    "            if a == 'comments':\n",
    "                data = b\n",
    "                for item in data:\n",
    "                    counts += int(item['count'])\n",
    "        \n",
    "        print(counts)\n",
    "                    \n",
    "        break"
   ]
  },
  {
   "cell_type": "markdown",
   "metadata": {},
   "source": [
    "**Answer:**\n",
    "\n",
    "Sum: 2665"
   ]
  },
  {
   "cell_type": "markdown",
   "metadata": {},
   "source": [
    "***"
   ]
  },
  {
   "cell_type": "markdown",
   "metadata": {},
   "source": [
    "## Assignment 3\n",
    "### Calling a JSON API\n",
    "\n",
    "In this assignment you will write a Python program somewhat similar to http://www.py4e.com/code3/geojson.py. The program will prompt for a location, contact a web service and retrieve JSON for the web service and parse that data, and retrieve the first **place_id** from the JSON. A place ID is a textual identifier that uniquely identifies a place as within Google Maps.\n",
    "\n",
    "**API End Points**\n",
    "\n",
    "To complete this assignment, you should use this API endpoint that has a static subset of the Google Data:"
   ]
  },
  {
   "cell_type": "code",
   "execution_count": null,
   "metadata": {},
   "outputs": [],
   "source": [
    "http://py4e-data.dr-chuck.net/json?"
   ]
  },
  {
   "cell_type": "markdown",
   "metadata": {},
   "source": [
    "This API uses the same parameter (address) as the Google API. This API also has no rate limit so you can test as often as you like. If you visit the URL with no parameters, you get \"No address...\" response.\n",
    "\n",
    "To call the API, you need to include a **key=** parameter and provide the address that you are requesting as the **address=** parameter that is properly URL encoded using the **urllib.parse.urlencode()** function as shown in http://www.py4e.com/code3/geojson.py\n",
    "\n",
    "Make sure to check that your code is using the API endpoint is as shown above. You will get *different* results from the **geojson** and **json** endpoints so make sure you are using the same end point as this autograder is using.\n",
    "\n",
    "**Test Data / Sample Execution**\n",
    "\n",
    "You can test to see if your program is working with a location of \"South Federal University\" which will have a **place_id** of \"ChIJ1Z9sheJZkFQRDePQqQebCdg\"."
   ]
  },
  {
   "cell_type": "code",
   "execution_count": null,
   "metadata": {},
   "outputs": [],
   "source": [
    "$ python3 solution.py\n",
    "Enter location: South Federal University\n",
    "Retrieving http://...\n",
    "Retrieved 2275 characters\n",
    "Place id ChIJ1Z9sheJZkFQRDePQqQebCdg"
   ]
  },
  {
   "cell_type": "markdown",
   "metadata": {},
   "source": [
    "**Turn In**\n",
    "\n",
    "Please run your program to find the **place_id** for this location:"
   ]
  },
  {
   "cell_type": "code",
   "execution_count": null,
   "metadata": {},
   "outputs": [],
   "source": [
    "Washington State University"
   ]
  },
  {
   "cell_type": "markdown",
   "metadata": {},
   "source": [
    "Make sure to enter the name and case exactly as above and enter the **place_id** and your Python code below. Hint: The first seven characters of the **place_id** are \"ChIJb6h ...\"\n",
    "\n",
    "Make sure to retreive the data from the URL specified above and **not** the normal Google API. Your program should work with the Google API - but the **place_id** may not match for this assignment.\n",
    "\n",
    "place_id:"
   ]
  },
  {
   "cell_type": "code",
   "execution_count": 32,
   "metadata": {},
   "outputs": [
    {
     "name": "stdout",
     "output_type": "stream",
     "text": [
      "Enter location: Washington State University\n",
      "Retrieving http://py4e-data.dr-chuck.net/json?address=Washington+State+University&key=42\n",
      "Retrieved 1749 characters\n",
      "Place ID: ChIJb6hIyAWHn1QR23BXtaTyZfQ\n"
     ]
    }
   ],
   "source": [
    "# Sean Ravenhill - program for the assignment.\n",
    "\n",
    "import urllib.request, urllib.parse, urllib.error\n",
    "import json\n",
    "import ssl\n",
    "\n",
    "api_key = 42\n",
    "serviceurl = 'http://py4e-data.dr-chuck.net/json?'\n",
    "\n",
    "# Ignore SSL certificate errors\n",
    "ctx = ssl.create_default_context()\n",
    "ctx.check_hostname = False\n",
    "ctx.verify_mode = ssl.CERT_NONE\n",
    "\n",
    "while True:\n",
    "    address = input('Enter location: ')\n",
    "    if address.lower() == 'done':\n",
    "        print(\"Program Ended. Thank You.\")\n",
    "        break\n",
    "    if len(address) < 1:\n",
    "        print('Please enter a valid location name.')\n",
    "        continue\n",
    "\n",
    "    parms = dict()\n",
    "    parms['address'] = address\n",
    "    if api_key is not False: parms['key'] = api_key\n",
    "    url = serviceurl + urllib.parse.urlencode(parms)\n",
    "\n",
    "    print('Retrieving', url)\n",
    "    uh = urllib.request.urlopen(url, context=ctx)\n",
    "    data = uh.read().decode()\n",
    "    print('Retrieved', len(data), 'characters')\n",
    "\n",
    "    try:\n",
    "        js = json.loads(data)\n",
    "    except:\n",
    "        js = None\n",
    "\n",
    "    if not js or 'status' not in js or js['status'] != 'OK':\n",
    "        print('==== Failure To Retrieve ====')\n",
    "        print(data)\n",
    "        continue\n",
    "\n",
    "    place_id = js['results'][0]['place_id']\n",
    "    print(\"Place ID:\", place_id)\n",
    "    \n",
    "    break"
   ]
  },
  {
   "cell_type": "markdown",
   "metadata": {},
   "source": [
    "**Answer:**\n",
    "\n",
    "place_id: ChIJb6hIyAWHn1QR23BXtaTyZfQ"
   ]
  }
 ],
 "metadata": {
  "kernelspec": {
   "display_name": "Python 3",
   "language": "python",
   "name": "python3"
  },
  "language_info": {
   "codemirror_mode": {
    "name": "ipython",
    "version": 3
   },
   "file_extension": ".py",
   "mimetype": "text/x-python",
   "name": "python",
   "nbconvert_exporter": "python",
   "pygments_lexer": "ipython3",
   "version": "3.8.3"
  }
 },
 "nbformat": 4,
 "nbformat_minor": 4
}
