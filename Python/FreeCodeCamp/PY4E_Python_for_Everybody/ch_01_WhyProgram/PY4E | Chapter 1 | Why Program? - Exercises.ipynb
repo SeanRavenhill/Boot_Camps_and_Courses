{
 "cells": [
  {
   "cell_type": "markdown",
   "metadata": {},
   "source": [
    "# Python for Everybody\n",
    "## Chapter 1 | Why Program? - Exercises\n",
    "\n",
    "https://www.py4e.com/html3/01-intro"
   ]
  },
  {
   "cell_type": "markdown",
   "metadata": {},
   "source": [
    "***"
   ]
  },
  {
   "cell_type": "markdown",
   "metadata": {},
   "source": [
    "### Exercise 1:\n",
    "#### What is the function of the secondary memory in a computer?\n",
    "a) Execute all of the computation and logic of the program<br>\n",
    "b) Retrieve web pages over the Internet<br>\n",
    "c) Store information for the long term, even beyond a power cycle<br>\n",
    "d) Take input from the user<br>"
   ]
  },
  {
   "cell_type": "markdown",
   "metadata": {},
   "source": [
    "#### Answer:\n",
    "c) Store information for the long term, even beyond a power cycle"
   ]
  },
  {
   "cell_type": "markdown",
   "metadata": {},
   "source": [
    "***"
   ]
  },
  {
   "cell_type": "markdown",
   "metadata": {},
   "source": [
    "### Exercise 2:\n",
    "#### What is a program?"
   ]
  },
  {
   "cell_type": "markdown",
   "metadata": {},
   "source": [
    "#### Answer:\n",
    "A series of software instructions, which we refer to as code, required to control the operation of a computer or another machine.<br> In this case, Python is the programming language implemented in these instructions."
   ]
  },
  {
   "cell_type": "markdown",
   "metadata": {},
   "source": [
    "***"
   ]
  },
  {
   "cell_type": "markdown",
   "metadata": {},
   "source": [
    "### Exercise 3:\n",
    "#### What is the difference between a compiler and an interpreter?"
   ]
  },
  {
   "cell_type": "markdown",
   "metadata": {},
   "source": [
    "#### Answer:\n",
    "An interpreter reads the source code of the program as written by the programmer, parses the source code, and interprets the instructions on the fly.<br>\n",
    "<br>\n",
    "A compiler needs to be handed the entire program in a file, and then it runs a process to translate the high-level source code (Python) into machine language (Binary) and then the compiler puts the resulting machine language into a file for later execution."
   ]
  },
  {
   "cell_type": "markdown",
   "metadata": {},
   "source": [
    "***"
   ]
  },
  {
   "cell_type": "markdown",
   "metadata": {},
   "source": [
    "### Exercise 4: \n",
    "#### Which of the following contains “machine code”?\n",
    "a) The Python interpreter<br>\n",
    "b) The keyboard<br>\n",
    "c) Python source file<br>\n",
    "d) A word processing document<br>"
   ]
  },
  {
   "cell_type": "markdown",
   "metadata": {},
   "source": [
    "#### Answer:\n",
    "a) The Python interpreter"
   ]
  },
  {
   "cell_type": "markdown",
   "metadata": {},
   "source": [
    "***"
   ]
  },
  {
   "cell_type": "markdown",
   "metadata": {},
   "source": [
    "### Exercise 5: \n",
    "#### What is wrong with the following code:"
   ]
  },
  {
   "cell_type": "code",
   "execution_count": null,
   "metadata": {},
   "outputs": [],
   "source": [
    ">>> primt 'Hello world!'\n",
    "File \"<stdin>\", line 1\n",
    "  primt 'Hello world!'\n",
    "                     ^\n",
    "SyntaxError: invalid syntax\n",
    ">>>"
   ]
  },
  {
   "cell_type": "markdown",
   "metadata": {},
   "source": [
    "#### Answer:\n",
    "The Python interpreter is reporting that there is a syntax error.<br>\n",
    "The Python inbuilt function **print()**, has been incorrectly spelt and the string 'Hello world!' also needs to be inside parentheses.<br>\n",
    "\n",
    "Correct syntax should read:"
   ]
  },
  {
   "cell_type": "code",
   "execution_count": 1,
   "metadata": {},
   "outputs": [
    {
     "name": "stdout",
     "output_type": "stream",
     "text": [
      "Hello World!\n"
     ]
    }
   ],
   "source": [
    "print('Hello World!')"
   ]
  },
  {
   "cell_type": "markdown",
   "metadata": {},
   "source": [
    "***"
   ]
  },
  {
   "cell_type": "markdown",
   "metadata": {},
   "source": [
    "### Exercise 6: \n",
    "#### Where in the computer is a variable such as “x” stored after the following Python line finishes?"
   ]
  },
  {
   "cell_type": "code",
   "execution_count": null,
   "metadata": {},
   "outputs": [],
   "source": [
    "x = 123"
   ]
  },
  {
   "cell_type": "markdown",
   "metadata": {},
   "source": [
    "a) Central processing unit<br>\n",
    "b) Main Memory<br>\n",
    "c) Secondary Memory<br>\n",
    "d) Input Devices<br>\n",
    "e) Output Devices<br>"
   ]
  },
  {
   "cell_type": "markdown",
   "metadata": {},
   "source": [
    "#### Answer:\n",
    "b) Main Memory"
   ]
  },
  {
   "cell_type": "markdown",
   "metadata": {},
   "source": [
    "***"
   ]
  },
  {
   "cell_type": "markdown",
   "metadata": {},
   "source": [
    "### Exercise 7: \n",
    "#### What will the following program print out:"
   ]
  },
  {
   "cell_type": "code",
   "execution_count": null,
   "metadata": {},
   "outputs": [],
   "source": [
    "x = 43\n",
    "x = x + 1\n",
    "print(x)"
   ]
  },
  {
   "cell_type": "markdown",
   "metadata": {},
   "source": [
    "a) 43<br>\n",
    "b) 44<br>\n",
    "c) x + 1<br>\n",
    "d) Error because x = x + 1 is not possible mathematically<br>"
   ]
  },
  {
   "cell_type": "markdown",
   "metadata": {},
   "source": [
    "#### Answer:\n",
    "b) 44"
   ]
  },
  {
   "cell_type": "markdown",
   "metadata": {},
   "source": [
    "***"
   ]
  },
  {
   "cell_type": "markdown",
   "metadata": {},
   "source": [
    "### Exercise 8: \n",
    "#### Explain each of the following using an example of a human capability: \n",
    "(1) Central processing unit<br>\n",
    "(2) Main Memory<br>\n",
    "(3) Secondary Memory<br>\n",
    "(4) Input Device<br>\n",
    "(5) Output Device<br>\n",
    "<br>\n",
    "For example, “What is the human equivalent to a Central Processing Unit”?<br>"
   ]
  },
  {
   "cell_type": "markdown",
   "metadata": {},
   "source": [
    "#### Answer:\n",
    "(1) - The Human Brain.<br>\n",
    "(2) - Short term memory.<br>\n",
    "(3) - Long term memory.<br>\n",
    "(4) - The sensory nervous system. ie. Taste, Touch, Sight, Smell, Hearing.<br>\n",
    "(5) - Interpersonal communication communcation skills. Verbal, Non-Verbal, Written, Visual.<br>"
   ]
  },
  {
   "cell_type": "markdown",
   "metadata": {},
   "source": [
    "***"
   ]
  },
  {
   "cell_type": "markdown",
   "metadata": {},
   "source": [
    "### Exercise 9: \n",
    "#### How do you fix a “Syntax Error”?"
   ]
  },
  {
   "cell_type": "markdown",
   "metadata": {},
   "source": [
    "#### Answer:\n",
    "\n",
    "Here are some ways to avoid the most common syntax errors:<br>\n",
    "\n",
    "(1) - Make sure you are not using a Python keyword for a variable name.<br><br>\n",
    "(2) - Check that you have a colon at the end of the header of every compound statement, including for, while, if, and def statements.<br><br>\n",
    "(3) - Check that indentation is consistent. You may indent with either spaces or tabs but it’s best not to mix them. Each level should be nested the same amount.<br><br>\n",
    "(4) - Make sure that any strings in the code have matching quotation marks.<br><br>\n",
    "(5) - If you have multiline strings with triple quotes (single or double), make sure you have terminated the string properly. An unterminated string may cause an invalid token error at the end of your program, or it may treat the following part of the program as a string until it comes to the next string. In the second case, it might not produce an error message at all!<br><br>\n",
    "(6) - An unclosed bracket – (, {, or [ – makes Python continue with the next line as part of the current statement. Generally, an error occurs almost immediately in the next line.<br><br>\n",
    "(7) - Check for the classic = instead of == inside a conditional.<br><br>\n"
   ]
  },
  {
   "cell_type": "markdown",
   "metadata": {},
   "source": [
    "***"
   ]
  }
 ],
 "metadata": {
  "kernelspec": {
   "display_name": "Python 3",
   "language": "python",
   "name": "python3"
  },
  "language_info": {
   "codemirror_mode": {
    "name": "ipython",
    "version": 3
   },
   "file_extension": ".py",
   "mimetype": "text/x-python",
   "name": "python",
   "nbconvert_exporter": "python",
   "pygments_lexer": "ipython3",
   "version": "3.8.3"
  }
 },
 "nbformat": 4,
 "nbformat_minor": 4
}
