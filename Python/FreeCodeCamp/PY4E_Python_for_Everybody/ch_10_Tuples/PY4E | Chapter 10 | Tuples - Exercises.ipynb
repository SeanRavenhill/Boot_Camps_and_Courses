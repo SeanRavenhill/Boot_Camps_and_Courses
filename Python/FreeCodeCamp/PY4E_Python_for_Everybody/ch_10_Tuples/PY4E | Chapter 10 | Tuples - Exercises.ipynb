{
 "cells": [
  {
   "cell_type": "markdown",
   "metadata": {},
   "source": [
    "# Python for Everybody\n",
    "## Chapter 10 | Tuples - Exercises\n",
    "\n",
    "https://www.py4e.com/lessons/tuples"
   ]
  },
  {
   "cell_type": "markdown",
   "metadata": {},
   "source": [
    "***"
   ]
  },
  {
   "cell_type": "markdown",
   "metadata": {},
   "source": [
    "### Exercise 1: \n",
    "\n",
    "#### Revise a previous program as follows: Read and parse the “From” lines and pull out the addresses from the line. Count the number of messages from each person using a dictionary.\n",
    "\n",
    "#### After all the data has been read, print the person with the most commits by creating a list of (count, email) tuples from the dictionary. Then sort the list in reverse order and print out the person who has the most commits."
   ]
  },
  {
   "cell_type": "code",
   "execution_count": null,
   "metadata": {},
   "outputs": [],
   "source": [
    "Sample Line:\n",
    "From stephen.marquard@uct.ac.za Sat Jan  5 09:14:16 2008\n",
    "\n",
    "Enter a file name: mbox-short.txt\n",
    "cwen@iupui.edu 5\n",
    "\n",
    "Enter a file name: mbox.txt\n",
    "zqian@umich.edu 195"
   ]
  },
  {
   "cell_type": "code",
   "execution_count": 1,
   "metadata": {},
   "outputs": [
    {
     "name": "stdout",
     "output_type": "stream",
     "text": [
      "Enter file name: mbox-short.txt\n",
      "\n",
      "\n",
      "cwen@iupui.edu 5\n"
     ]
    }
   ],
   "source": [
    "fname = input(\"Enter file name: \")\n",
    "if len(fname) < 1 : fname = \"mbox-short.txt\"\n",
    "fh = open(fname)\n",
    "\n",
    "di = dict()\n",
    "for line in fh:\n",
    "    line = line.rstrip().split()\n",
    "    if 'From' in line:\n",
    "        word = line[1]\n",
    "        di[word] = di.get(word, 0) + 1\n",
    "\n",
    "li = list()\n",
    "for key, val in di.items():\n",
    "    newtup = (val, key)\n",
    "    li.append(newtup)\n",
    "\n",
    "li = sorted(li, reverse=True)\n",
    "\n",
    "print(\"\\n\")\n",
    "for val, key in li[:1]:\n",
    "    print(key, val)"
   ]
  },
  {
   "cell_type": "markdown",
   "metadata": {},
   "source": [
    "#### *List Comprehension version:"
   ]
  },
  {
   "cell_type": "code",
   "execution_count": 2,
   "metadata": {},
   "outputs": [
    {
     "name": "stdout",
     "output_type": "stream",
     "text": [
      "Enter file name: mbox-short.txt\n",
      "\n",
      "\n",
      "cwen@iupui.edu 5\n"
     ]
    }
   ],
   "source": [
    "fname = input(\"Enter file name: \")\n",
    "if len(fname) < 1 : fname = \"mbox-short.txt\"\n",
    "fh = open(fname)\n",
    "\n",
    "di = dict()\n",
    "for line in fh:\n",
    "    line = line.rstrip().split()\n",
    "    if 'From' in line:\n",
    "        word = line[1]\n",
    "        di[word] = di.get(word, 0) + 1\n",
    "\n",
    "li = sorted([(val, key) for key, val in di.items()],reverse=True)\n",
    "\n",
    "print(\"\\n\")\n",
    "for val, key in li[:1]:\n",
    "    print(key, val)"
   ]
  },
  {
   "cell_type": "markdown",
   "metadata": {},
   "source": [
    "***"
   ]
  },
  {
   "cell_type": "markdown",
   "metadata": {},
   "source": [
    "### Exercise 2: \n",
    "\n",
    "#### This program counts the distribution of the hour of the day for each of the messages. You can pull the hour from the “From” line by finding the time string and then splitting that string into parts using the colon character. Once you have accumulated the counts for each hour, print out the counts, one per line, sorted by hour as shown below."
   ]
  },
  {
   "cell_type": "code",
   "execution_count": null,
   "metadata": {},
   "outputs": [],
   "source": [
    "python timeofday.py\n",
    "Enter a file name: mbox-short.txt\n",
    "04 3\n",
    "06 1\n",
    "07 1\n",
    "09 2\n",
    "10 3\n",
    "11 6\n",
    "14 1\n",
    "15 2\n",
    "16 4\n",
    "17 2\n",
    "18 1\n",
    "19 1"
   ]
  },
  {
   "cell_type": "code",
   "execution_count": 4,
   "metadata": {},
   "outputs": [
    {
     "name": "stdout",
     "output_type": "stream",
     "text": [
      "Enter file name: mbox-short.txt\n",
      "\n",
      "\n",
      "04 3\n",
      "06 1\n",
      "07 1\n",
      "09 2\n",
      "10 3\n",
      "11 6\n",
      "14 1\n",
      "15 2\n",
      "16 4\n",
      "17 2\n",
      "18 1\n",
      "19 1\n"
     ]
    }
   ],
   "source": [
    "fname = input(\"Enter file name: \")\n",
    "if len(fname) < 1 : fname = \"mbox-short.txt\"\n",
    "fh = open(fname)\n",
    "\n",
    "di = dict()\n",
    "for line in fh:\n",
    "    line = line.rstrip().split()\n",
    "    if 'From' in line:\n",
    "        timestamp = line[5]\n",
    "        hour = timestamp.split(':')[0]\n",
    "        di[hour] = di.get(hour, 0) + 1\n",
    "\n",
    "times = list()\n",
    "for key, val in di.items():\n",
    "    time = (key, val)\n",
    "    times.append(time)\n",
    "    times = sorted(times)\n",
    "\n",
    "times = sorted(times)\n",
    "\n",
    "print(\"\\n\")\n",
    "for key, val in times:\n",
    "    print(key, val)"
   ]
  },
  {
   "cell_type": "markdown",
   "metadata": {},
   "source": [
    "#### *List Comprehension version:"
   ]
  },
  {
   "cell_type": "code",
   "execution_count": 5,
   "metadata": {},
   "outputs": [
    {
     "name": "stdout",
     "output_type": "stream",
     "text": [
      "Enter file name: mbox-short.txt\n",
      "\n",
      "\n",
      "04 3\n",
      "06 1\n",
      "07 1\n",
      "09 2\n",
      "10 3\n",
      "11 6\n",
      "14 1\n",
      "15 2\n",
      "16 4\n",
      "17 2\n",
      "18 1\n",
      "19 1\n"
     ]
    }
   ],
   "source": [
    "fname = input(\"Enter file name: \")\n",
    "if len(fname) < 1 : fname = \"mbox-short.txt\"\n",
    "fh = open(fname)\n",
    "\n",
    "di = dict()\n",
    "for line in fh:\n",
    "    line = line.rstrip().split()\n",
    "    if 'From' in line:\n",
    "        timestamp = line[5]\n",
    "        hour = timestamp.split(':')[0]\n",
    "        di[hour] = di.get(hour, 0) + 1\n",
    "\n",
    "times = sorted([(key, val) for key, val in di.items()])\n",
    "\n",
    "print(\"\\n\")\n",
    "for key, val in times:\n",
    "    print(key, val)"
   ]
  },
  {
   "cell_type": "markdown",
   "metadata": {},
   "source": [
    "***"
   ]
  },
  {
   "cell_type": "markdown",
   "metadata": {},
   "source": [
    "### Exercise 3: \n",
    "\n",
    "#### Write a program that reads a file and prints the letters in decreasing order of frequency. Your program should convert all the input to lower case and only count the letters a-z. Your program should not count spaces, digits, punctuation, or anything other than the letters a-z. Find text samples from several different languages and see how letter frequency varies between languages. Compare your results with the tables at https://wikipedia.org/wiki/Letter_frequencies."
   ]
  },
  {
   "cell_type": "code",
   "execution_count": 6,
   "metadata": {},
   "outputs": [
    {
     "name": "stdout",
     "output_type": "stream",
     "text": [
      "Enter file name: eng.txt\n",
      "\n",
      "\n",
      "e 1078\n",
      "t 804\n",
      "n 714\n",
      "o 706\n",
      "a 705\n",
      "i 699\n",
      "r 609\n",
      "s 465\n",
      "h 447\n",
      "l 398\n",
      "d 324\n",
      "c 292\n",
      "f 224\n",
      "u 196\n",
      "m 189\n",
      "y 166\n",
      "g 165\n",
      "p 152\n",
      "b 109\n",
      "v 99\n",
      "w 75\n",
      "k 18\n",
      "q 16\n",
      "j 15\n",
      "x 7\n",
      "z 4\n"
     ]
    }
   ],
   "source": [
    "fname = input(\"Enter file name: \")\n",
    "if len(fname) < 1 : fname = \"eng.txt\"\n",
    "fh = open(fname)\n",
    "\n",
    "alphabet = 'abcdefghijklmnopqrstuvxwyz'\n",
    "\n",
    "di = dict()\n",
    "for line in fh :\n",
    "    line = line.strip().lower().split()\n",
    "    for words in line :\n",
    "        words = words\n",
    "        for chars in words :\n",
    "            chars = chars\n",
    "            if chars in alphabet :\n",
    "                di[chars] = di.get(chars, 0) + 1\n",
    "            else:\n",
    "                continue\n",
    "\n",
    "ordered = list()\n",
    "for key, val in di.items():\n",
    "    order = (val, key)\n",
    "    ordered.append(order)\n",
    "\n",
    "ordered = sorted(ordered, reverse=True)\n",
    "\n",
    "print(\"\\n\")\n",
    "for val, key in ordered:\n",
    "    print(key, val)"
   ]
  },
  {
   "cell_type": "markdown",
   "metadata": {},
   "source": [
    "#### *List Comprehension version:"
   ]
  },
  {
   "cell_type": "code",
   "execution_count": 7,
   "metadata": {},
   "outputs": [
    {
     "name": "stdout",
     "output_type": "stream",
     "text": [
      "Enter file name: eng.txt\n",
      "\n",
      "\n",
      "e 1078\n",
      "t 804\n",
      "n 714\n",
      "o 706\n",
      "a 705\n",
      "i 699\n",
      "r 609\n",
      "s 465\n",
      "h 447\n",
      "l 398\n",
      "d 324\n",
      "c 292\n",
      "f 224\n",
      "u 196\n",
      "m 189\n",
      "y 166\n",
      "g 165\n",
      "p 152\n",
      "b 109\n",
      "v 99\n",
      "w 75\n",
      "k 18\n",
      "q 16\n",
      "j 15\n",
      "x 7\n",
      "z 4\n"
     ]
    }
   ],
   "source": [
    "fname = input(\"Enter file name: \")\n",
    "if len(fname) < 1 : fname = \"eng.txt\"\n",
    "fh = open(fname)\n",
    "\n",
    "alphabet = 'abcdefghijklmnopqrstuvxwyz'\n",
    "\n",
    "di = dict()\n",
    "for line in fh :\n",
    "    line = line.strip().lower().split()\n",
    "    for words in line :\n",
    "        words = words\n",
    "        for chars in words :\n",
    "            chars = chars\n",
    "            if chars in alphabet :\n",
    "                di[chars] = di.get(chars, 0) + 1\n",
    "            else:\n",
    "                continue\n",
    "\n",
    "ordered = sorted( [(val, key) for key, val in di.items()], reverse=True)\n",
    "\n",
    "print(\"\\n\")\n",
    "for val, key in ordered:\n",
    "    print(key, val)"
   ]
  }
 ],
 "metadata": {
  "kernelspec": {
   "display_name": "Python 3",
   "language": "python",
   "name": "python3"
  },
  "language_info": {
   "codemirror_mode": {
    "name": "ipython",
    "version": 3
   },
   "file_extension": ".py",
   "mimetype": "text/x-python",
   "name": "python",
   "nbconvert_exporter": "python",
   "pygments_lexer": "ipython3",
   "version": "3.8.3"
  }
 },
 "nbformat": 4,
 "nbformat_minor": 4
}
