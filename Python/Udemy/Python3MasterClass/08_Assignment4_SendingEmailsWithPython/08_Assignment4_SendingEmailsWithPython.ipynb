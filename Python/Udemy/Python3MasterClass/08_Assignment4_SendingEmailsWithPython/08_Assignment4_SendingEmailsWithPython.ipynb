{
 "cells": [
  {
   "cell_type": "markdown",
   "metadata": {
    "collapsed": true
   },
   "source": [
    "# Overview of Green Mission\n",
    "\n",
    "It seems like the email we obtained from the previous mission:\n",
    "\n",
    "    info@thegoldbugs.com\n",
    "    \n",
    "has been set to an auto-reply function that will reveal more information.\n",
    "\n",
    "Send an email to the address and use Python to see what the reply is.\n",
    "\n",
    "**Note: We expect that this email will probably send some sort of auto-reply with a reference link in HTML. Because of this, the content_type() may be 'text/html' instead of 'test/plain'. If you do get some text mixed with HTML code, try pasting the HTML code into a markdown cell in the jupyter notebook, it should be able to format the message correctly.**\n",
    "\n",
    "Best of luck agent!"
   ]
  },
  {
   "cell_type": "code",
   "execution_count": 5,
   "metadata": {},
   "outputs": [
    {
     "data": {
      "text/plain": [
       "(250,\n",
       " b'smtp.gmail.com at your service, [154.70.152.7]\\nSIZE 35882577\\n8BITMIME\\nSTARTTLS\\nENHANCEDSTATUSCODES\\nPIPELINING\\nCHUNKING\\nSMTPUTF8')"
      ]
     },
     "execution_count": 5,
     "metadata": {},
     "output_type": "execute_result"
    }
   ],
   "source": [
    "import smtplib\n",
    "\n",
    "smtp_object = smtplib.SMTP('smtp.gmail.com',587)\n",
    "smtp_object.ehlo()"
   ]
  },
  {
   "cell_type": "code",
   "execution_count": 6,
   "metadata": {},
   "outputs": [
    {
     "data": {
      "text/plain": [
       "(220, b'2.0.0 Ready to start TLS')"
      ]
     },
     "execution_count": 6,
     "metadata": {},
     "output_type": "execute_result"
    }
   ],
   "source": [
    "smtp_object.starttls()"
   ]
  },
  {
   "cell_type": "code",
   "execution_count": 7,
   "metadata": {},
   "outputs": [
    {
     "name": "stdout",
     "output_type": "stream",
     "text": [
      "Email: ········\n",
      "Password: ········\n"
     ]
    },
    {
     "data": {
      "text/plain": [
       "(235, b'2.7.0 Accepted')"
      ]
     },
     "execution_count": 7,
     "metadata": {},
     "output_type": "execute_result"
    }
   ],
   "source": [
    "import getpass\n",
    "\n",
    "email = getpass.getpass(\"Email: \")\n",
    "password = getpass.getpass(\"Password: \")\n",
    "smtp_object.login(email, password)"
   ]
  },
  {
   "cell_type": "code",
   "execution_count": 8,
   "metadata": {},
   "outputs": [
    {
     "name": "stdout",
     "output_type": "stream",
     "text": [
      "Enter your Email: ········\n",
      "Enter recipient Email: ········\n",
      "Enter subject line: What is the resistance?\n",
      "Type your message here: Why did the resistance defect?\n"
     ]
    },
    {
     "data": {
      "text/plain": [
       "{}"
      ]
     },
     "execution_count": 8,
     "metadata": {},
     "output_type": "execute_result"
    }
   ],
   "source": [
    "from_address = getpass.getpass('Enter your Email: ')\n",
    "to_address = getpass.getpass('Enter recipient Email: ')\n",
    "subject = input(\"Enter subject line: \")\n",
    "message = input(\"Type your message here: \")\n",
    "msg = \"Subject: \" + subject + '\\n' + message\n",
    "smtp_object.sendmail(from_address, to_address, msg)"
   ]
  },
  {
   "cell_type": "code",
   "execution_count": 9,
   "metadata": {},
   "outputs": [
    {
     "data": {
      "text/plain": [
       "(221, b'2.0.0 closing connection g5sm8461563wrq.30 - gsmtp')"
      ]
     },
     "execution_count": 9,
     "metadata": {},
     "output_type": "execute_result"
    }
   ],
   "source": [
    "smtp_object.quit()"
   ]
  },
  {
   "cell_type": "code",
   "execution_count": 10,
   "metadata": {},
   "outputs": [],
   "source": [
    "import imaplib\n",
    "\n",
    "mail = imaplib.IMAP4_SSL('imap.gmail.com')"
   ]
  },
  {
   "cell_type": "markdown",
   "metadata": {},
   "source": [
    "email = getpass.getpass(\"Email: \")\n",
    "password = getpass.getpass(\"Password: \")"
   ]
  },
  {
   "cell_type": "code",
   "execution_count": 11,
   "metadata": {},
   "outputs": [
    {
     "data": {
      "text/plain": [
       "('OK', [b'seanravenhill@gmail.com authenticated (Success)'])"
      ]
     },
     "execution_count": 11,
     "metadata": {},
     "output_type": "execute_result"
    }
   ],
   "source": [
    "mail.login(email,password)"
   ]
  },
  {
   "cell_type": "code",
   "execution_count": 12,
   "metadata": {},
   "outputs": [
    {
     "data": {
      "text/plain": [
       "('OK',\n",
       " [b'(\\\\HasChildren) \"/\" \"ARCHIVED MAIL\"',\n",
       "  b'(\\\\HasNoChildren) \"/\" \"ARCHIVED MAIL/15 Berg En See\"',\n",
       "  b'(\\\\HasNoChildren) \"/\" \"ARCHIVED MAIL/360 Degree GYM\"',\n",
       "  b'(\\\\HasNoChildren) \"/\" \"ARCHIVED MAIL/99Designs\"',\n",
       "  b'(\\\\HasNoChildren) \"/\" \"ARCHIVED MAIL/ACS\"',\n",
       "  b'(\\\\HasNoChildren) \"/\" \"ARCHIVED MAIL/AEscripts + AEplugins\"',\n",
       "  b'(\\\\HasNoChildren) \"/\" \"ARCHIVED MAIL/Addictech\"',\n",
       "  b'(\\\\HasNoChildren) \"/\" \"ARCHIVED MAIL/Adobe\"',\n",
       "  b'(\\\\HasNoChildren) \"/\" \"ARCHIVED MAIL/Adobe Creative Cloud\"',\n",
       "  b'(\\\\HasNoChildren) \"/\" \"ARCHIVED MAIL/Affinity Serif\"',\n",
       "  b'(\\\\HasNoChildren) \"/\" \"ARCHIVED MAIL/Akeso\"',\n",
       "  b'(\\\\HasNoChildren) \"/\" \"ARCHIVED MAIL/AliExpress\"',\n",
       "  b'(\\\\HasNoChildren) \"/\" \"ARCHIVED MAIL/Alosha Lynov\"',\n",
       "  b'(\\\\HasNoChildren) \"/\" \"ARCHIVED MAIL/Amazon Kindle\"',\n",
       "  b'(\\\\HasNoChildren) \"/\" \"ARCHIVED MAIL/Amazon.co.uk\"',\n",
       "  b'(\\\\HasNoChildren) \"/\" \"ARCHIVED MAIL/Ampath\"',\n",
       "  b'(\\\\HasNoChildren) \"/\" \"ARCHIVED MAIL/Andrea East\"',\n",
       "  b'(\\\\HasNoChildren) \"/\" \"ARCHIVED MAIL/Andrew Cook\"',\n",
       "  b'(\\\\HasNoChildren) \"/\" \"ARCHIVED MAIL/Android\"',\n",
       "  b'(\\\\HasNoChildren) \"/\" \"ARCHIVED MAIL/Android Jones\"',\n",
       "  b'(\\\\HasNoChildren) \"/\" \"ARCHIVED MAIL/Androtics Direct\"',\n",
       "  b'(\\\\HasNoChildren) \"/\" \"ARCHIVED MAIL/Andy Skinstad (Fonk)\"',\n",
       "  b'(\\\\HasNoChildren) \"/\" \"ARCHIVED MAIL/Anglo Pacific\"',\n",
       "  b'(\\\\HasNoChildren) \"/\" \"ARCHIVED MAIL/Angor (#75 Ravenshill)\"',\n",
       "  b'(\\\\HasNoChildren) \"/\" \"ARCHIVED MAIL/Argos\"',\n",
       "  b'(\\\\HasNoChildren) \"/\" \"ARCHIVED MAIL/Astute Graphics\"',\n",
       "  b'(\\\\HasNoChildren) \"/\" \"ARCHIVED MAIL/Autopage (Vodacom 00 27 0 82 376 2113)\"',\n",
       "  b'(\\\\HasNoChildren) \"/\" \"ARCHIVED MAIL/Avis\"',\n",
       "  b'(\\\\HasNoChildren) \"/\" \"ARCHIVED MAIL/BARRY BAUMGART PHYSIOTHERAPY\"',\n",
       "  b'(\\\\HasChildren) \"/\" \"ARCHIVED MAIL/BOS\"',\n",
       "  b'(\\\\HasNoChildren) \"/\" \"ARCHIVED MAIL/BOS/Anton Van Niekerk\"',\n",
       "  b'(\\\\HasNoChildren) \"/\" \"ARCHIVED MAIL/BOS/Cindy Rautenbach\"',\n",
       "  b'(\\\\HasNoChildren) \"/\" \"ARCHIVED MAIL/BOS/Marie Van Niekerk\"',\n",
       "  b'(\\\\HasNoChildren) \"/\" \"ARCHIVED MAIL/BOS/Monique Henderson\"',\n",
       "  b'(\\\\HasNoChildren) \"/\" \"ARCHIVED MAIL/BOS/Rooibos Ltd\"',\n",
       "  b'(\\\\HasNoChildren) \"/\" \"ARCHIVED MAIL/Bar Brothers\"',\n",
       "  b'(\\\\HasNoChildren) \"/\" \"ARCHIVED MAIL/Ben Sullivan (iOS Development Mentor)\"',\n",
       "  b'(\\\\HasNoChildren) \"/\" \"ARCHIVED MAIL/Beresford Residential\"',\n",
       "  b'(\\\\HasNoChildren) \"/\" \"ARCHIVED MAIL/Blck Vapour\"',\n",
       "  b'(\\\\HasNoChildren) \"/\" \"ARCHIVED MAIL/Blizzard\"',\n",
       "  b'(\\\\HasNoChildren) \"/\" \"ARCHIVED MAIL/Boardwise\"',\n",
       "  b'(\\\\HasNoChildren) \"/\" \"ARCHIVED MAIL/Brad @ Talent BOOM\"',\n",
       "  b'(\\\\HasNoChildren) \"/\" \"ARCHIVED MAIL/British Red Cross\"',\n",
       "  b'(\\\\HasNoChildren) \"/\" \"ARCHIVED MAIL/Bruce Hyland (Tenant)\"',\n",
       "  b'(\\\\HasNoChildren) \"/\" \"ARCHIVED MAIL/Bupa\"',\n",
       "  b'(\\\\HasNoChildren) \"/\" \"ARCHIVED MAIL/CAREER PATH (2020)\"',\n",
       "  b'(\\\\HasNoChildren) \"/\" \"ARCHIVED MAIL/Cam Sykes (Digital Painting)\"',\n",
       "  b'(\\\\HasNoChildren) \"/\" \"ARCHIVED MAIL/Cannabis Club CPT\"',\n",
       "  b'(\\\\HasNoChildren) \"/\" \"ARCHIVED MAIL/Car Quotes\"',\n",
       "  b'(\\\\HasNoChildren) \"/\" \"ARCHIVED MAIL/Career Aptitude Test\"',\n",
       "  b'(\\\\HasNoChildren) \"/\" \"ARCHIVED MAIL/City of Johannesburg\"',\n",
       "  b'(\\\\HasNoChildren) \"/\" \"ARCHIVED MAIL/CityROCK\"',\n",
       "  b'(\\\\HasNoChildren) \"/\" \"ARCHIVED MAIL/ClearScore\"',\n",
       "  b'(\\\\HasNoChildren) \"/\" \"ARCHIVED MAIL/Collivery\"',\n",
       "  b'(\\\\HasNoChildren) \"/\" \"ARCHIVED MAIL/Comms Express\"',\n",
       "  b'(\\\\HasNoChildren) \"/\" \"ARCHIVED MAIL/DHL\"',\n",
       "  b'(\\\\HasNoChildren) \"/\" \"ARCHIVED MAIL/David Thomas (ThisIsMe)\"',\n",
       "  b'(\\\\HasNoChildren) \"/\" \"ARCHIVED MAIL/Dear Cape Town\"',\n",
       "  b'(\\\\HasNoChildren) \"/\" \"ARCHIVED MAIL/Devslopes\"',\n",
       "  b'(\\\\HasNoChildren) \"/\" \"ARCHIVED MAIL/Dimensions Tents\"',\n",
       "  b'(\\\\HasNoChildren) \"/\" \"ARCHIVED MAIL/Dorie\"',\n",
       "  b'(\\\\HasNoChildren) \"/\" \"ARCHIVED MAIL/Doris Ravenhill\"',\n",
       "  b'(\\\\HasNoChildren) \"/\" \"ARCHIVED MAIL/Dr Howard Sarembock\"',\n",
       "  b'(\\\\HasNoChildren) \"/\" \"ARCHIVED MAIL/Dr M N RAJABALLY\"',\n",
       "  b'(\\\\HasNoChildren) \"/\" \"ARCHIVED MAIL/Dr. Ben Lourie (Dentist)\"',\n",
       "  b'(\\\\HasNoChildren) \"/\" \"ARCHIVED MAIL/Dr. Chivers, GR\"',\n",
       "  b'(\\\\HasNoChildren) \"/\" \"ARCHIVED MAIL/Dr. Corne Kruger\"',\n",
       "  b'(\\\\HasNoChildren) \"/\" \"ARCHIVED MAIL/Dr. Crots and Coetzee\"',\n",
       "  b'(\\\\HasNoChildren) \"/\" \"ARCHIVED MAIL/Dr. Darren Levin\"',\n",
       "  b'(\\\\HasNoChildren) \"/\" \"ARCHIVED MAIL/Dr. Dilshaad Asmal\"',\n",
       "  b'(\\\\HasNoChildren) \"/\" \"ARCHIVED MAIL/Dr. Dirk Van Zjil\"',\n",
       "  b'(\\\\HasNoChildren) \"/\" \"ARCHIVED MAIL/Dr. Grevler\"',\n",
       "  b'(\\\\HasNoChildren) \"/\" \"ARCHIVED MAIL/Dr. Ken Esterhuizen (ENT)\"',\n",
       "  b'(\\\\HasNoChildren) \"/\" \"ARCHIVED MAIL/Dr. Michael Elliot (Gastroenterologist)\"',\n",
       "  b'(\\\\HasNoChildren) \"/\" \"ARCHIVED MAIL/Dr. Natalie Wessels\"',\n",
       "  b'(\\\\HasNoChildren) \"/\" \"ARCHIVED MAIL/Dr. Okaisabor\"',\n",
       "  b'(\\\\HasNoChildren) \"/\" \"ARCHIVED MAIL/Dr. Robin Scheepers\"',\n",
       "  b'(\\\\HasNoChildren) \"/\" \"ARCHIVED MAIL/Dude &- A Van\"',\n",
       "  b'(\\\\HasNoChildren) \"/\" \"ARCHIVED MAIL/Eastern Acoustics\"',\n",
       "  b'(\\\\HasNoChildren) \"/\" \"ARCHIVED MAIL/EasyJet\"',\n",
       "  b'(\\\\HasNoChildren) \"/\" \"ARCHIVED MAIL/Ebay\"',\n",
       "  b'(\\\\HasNoChildren) \"/\" \"ARCHIVED MAIL/Endsleigh Insurance\"',\n",
       "  b'(\\\\HasNoChildren) \"/\" \"ARCHIVED MAIL/Envato\"',\n",
       "  b'(\\\\HasNoChildren) \"/\" \"ARCHIVED MAIL/Evelyn Beneke (Therapist)\"',\n",
       "  b'(\\\\HasNoChildren) \"/\" \"ARCHIVED MAIL/Evetech.co.za\"',\n",
       "  b'(\\\\HasNoChildren) \"/\" \"ARCHIVED MAIL/Expedia Travel Services\"',\n",
       "  b'(\\\\HasNoChildren) \"/\" \"ARCHIVED MAIL/First Great Western\"',\n",
       "  b'(\\\\HasNoChildren) \"/\" \"ARCHIVED MAIL/Flashden\"',\n",
       "  b'(\\\\HasNoChildren) \"/\" \"ARCHIVED MAIL/GOV UK\"',\n",
       "  b'(\\\\HasNoChildren) \"/\" \"ARCHIVED MAIL/Gaynor Read\"',\n",
       "  b'(\\\\HasNoChildren) \"/\" \"ARCHIVED MAIL/GearZap\"',\n",
       "  b'(\\\\HasNoChildren) \"/\" \"ARCHIVED MAIL/Gmail Team\"',\n",
       "  b'(\\\\HasNoChildren) \"/\" \"ARCHIVED MAIL/HMRC\"',\n",
       "  b'(\\\\HasNoChildren) \"/\" \"ARCHIVED MAIL/Hydro74\"',\n",
       "  b'(\\\\HasNoChildren) \"/\" \"ARCHIVED MAIL/Ian Palframan\"',\n",
       "  b'(\\\\HasNoChildren) \"/\" \"ARCHIVED MAIL/Ilka Car Mirror Repairs\"',\n",
       "  b'(\\\\HasNoChildren) \"/\" \"ARCHIVED MAIL/Indeed\"',\n",
       "  b'(\\\\HasNoChildren) \"/\" \"ARCHIVED MAIL/Indiegogo\"',\n",
       "  b'(\\\\HasNoChildren) \"/\" \"ARCHIVED MAIL/Integrative Coaching\"',\n",
       "  b'(\\\\HasNoChildren) \"/\" \"ARCHIVED MAIL/Jon West\"',\n",
       "  b'(\\\\HasNoChildren) \"/\" \"ARCHIVED MAIL/Judith (Perfect Tenant)\"',\n",
       "  b'(\\\\HasNoChildren) \"/\" \"ARCHIVED MAIL/Katia Nicolella\"',\n",
       "  b'(\\\\HasNoChildren) \"/\" \"ARCHIVED MAIL/LUNO\"',\n",
       "  b'(\\\\HasNoChildren) \"/\" \"ARCHIVED MAIL/Lambeth Council\"',\n",
       "  b'(\\\\HasNoChildren) \"/\" \"ARCHIVED MAIL/Le Roux Steyn\"',\n",
       "  b'(\\\\HasChildren) \"/\" \"ARCHIVED MAIL/MARK 1\"',\n",
       "  b'(\\\\HasNoChildren) \"/\" \"ARCHIVED MAIL/MARK 1/Daan (Mark1)\"',\n",
       "  b'(\\\\HasNoChildren) \"/\" \"ARCHIVED MAIL/MARK 1/Mercia (Mark 1)\"',\n",
       "  b'(\\\\HasNoChildren) \"/\" \"ARCHIVED MAIL/Mantality\"',\n",
       "  b'(\\\\HasNoChildren) \"/\" \"ARCHIVED MAIL/Mary LeWarne\"',\n",
       "  b'(\\\\HasNoChildren) \"/\" \"ARCHIVED MAIL/Mazuma Mobile\"',\n",
       "  b'(\\\\HasNoChildren) \"/\" \"ARCHIVED MAIL/Mekor Ford\"',\n",
       "  b'(\\\\HasNoChildren) \"/\" \"ARCHIVED MAIL/Melodics\"',\n",
       "  b'(\\\\HasNoChildren) \"/\" \"ARCHIVED MAIL/Merchline\"',\n",
       "  b'(\\\\HasNoChildren) \"/\" \"ARCHIVED MAIL/Micheal John Carter\"',\n",
       "  b'(\\\\HasNoChildren) \"/\" \"ARCHIVED MAIL/Mike Bell (8 Forth Road, Rondebosch)\"',\n",
       "  b'(\\\\HasNoChildren) \"/\" \"ARCHIVED MAIL/Mike Brown\"',\n",
       "  b'(\\\\HasNoChildren) \"/\" \"ARCHIVED MAIL/Mixcloud\"',\n",
       "  b'(\\\\HasNoChildren) \"/\" \"ARCHIVED MAIL/Mr. Bill\"',\n",
       "  b'(\\\\HasNoChildren) \"/\" \"ARCHIVED MAIL/Music Matter\"',\n",
       "  b'(\\\\HasNoChildren) \"/\" \"ARCHIVED MAIL/NHS\"',\n",
       "  b'(\\\\HasNoChildren) \"/\" \"ARCHIVED MAIL/Neil Jordaan\"',\n",
       "  b'(\\\\HasNoChildren) \"/\" \"ARCHIVED MAIL/Nicole Simpson\"',\n",
       "  b'(\\\\HasNoChildren) \"/\" \"ARCHIVED MAIL/Ninja Tune\"',\n",
       "  b'(\\\\HasNoChildren) \"/\" \"ARCHIVED MAIL/Notafy\"',\n",
       "  b'(\\\\HasChildren) \"/\" \"ARCHIVED MAIL/OmniStudio\"',\n",
       "  b'(\\\\HasNoChildren) \"/\" \"ARCHIVED MAIL/OmniStudio/Dolores\"',\n",
       "  b'(\\\\HasNoChildren) \"/\" \"ARCHIVED MAIL/OmniStudio/Edwina\"',\n",
       "  b'(\\\\HasNoChildren) \"/\" \"ARCHIVED MAIL/OmniStudio/Gabby\"',\n",
       "  b'(\\\\HasNoChildren) \"/\" \"ARCHIVED MAIL/OmniStudio/Tobie Van Der Spy (OmniStudio)\"',\n",
       "  b'(\\\\HasNoChildren) \"/\" \"ARCHIVED MAIL/PartyGaming\"',\n",
       "  b'(\\\\HasNoChildren) \"/\" \"ARCHIVED MAIL/Personality Test\"',\n",
       "  b'(\\\\HasNoChildren) \"/\" \"ARCHIVED MAIL/Petro Pretorius (Krazy Boyz)\"',\n",
       "  b'(\\\\HasNoChildren) \"/\" \"ARCHIVED MAIL/Pocket Expense\"',\n",
       "  b'(\\\\HasNoChildren) \"/\" \"ARCHIVED MAIL/Point Blank School\"',\n",
       "  b'(\\\\HasNoChildren) \"/\" \"ARCHIVED MAIL/Protect Your Bubble\"',\n",
       "  b'(\\\\HasNoChildren) \"/\" \"ARCHIVED MAIL/RENTPlus\"',\n",
       "  b'(\\\\HasNoChildren) \"/\" \"ARCHIVED MAIL/Rashieda (Krazy Boyz)\"',\n",
       "  b'(\\\\HasNoChildren) \"/\" \"ARCHIVED MAIL/Rebtel\"',\n",
       "  b'(\\\\HasNoChildren) \"/\" \"ARCHIVED MAIL/Rentalcars.com\"',\n",
       "  b'(\\\\HasNoChildren) \"/\" \"ARCHIVED MAIL/Rob Boffard\"',\n",
       "  b'(\\\\HasNoChildren) \"/\" \"ARCHIVED MAIL/Rob Percival\"',\n",
       "  b'(\\\\HasNoChildren) \"/\" \"ARCHIVED MAIL/Robyne Buyers\"',\n",
       "  b'(\\\\HasNoChildren) \"/\" \"ARCHIVED MAIL/RoyalMail\"',\n",
       "  b'(\\\\HasNoChildren) \"/\" \"ARCHIVED MAIL/Rushdie Lagardien\"',\n",
       "  b'(\\\\HasNoChildren) \"/\" \"ARCHIVED MAIL/SERV Hosting\"',\n",
       "  b'(\\\\HasNoChildren) \"/\" \"ARCHIVED MAIL/SOTHERBYS (Barbara)\"',\n",
       "  b'(\\\\HasNoChildren) \"/\" \"ARCHIVED MAIL/Samatha Brown\"',\n",
       "  b'(\\\\HasNoChildren) \"/\" \"ARCHIVED MAIL/Sky\"',\n",
       "  b'(\\\\HasNoChildren) \"/\" \"ARCHIVED MAIL/Sound Magus\"',\n",
       "  b'(\\\\HasNoChildren) \"/\" \"ARCHIVED MAIL/Square\"',\n",
       "  b'(\\\\HasNoChildren) \"/\" \"ARCHIVED MAIL/Standard Bank\"',\n",
       "  b'(\\\\HasNoChildren) \"/\" \"ARCHIVED MAIL/Stephen Milton\"',\n",
       "  b'(\\\\HasChildren \\\\Noselect) \"/\" \"ARCHIVED MAIL/Tax 2018\"',\n",
       "  b'(\\\\HasNoChildren) \"/\" \"ARCHIVED MAIL/Tax 2018/2019\"',\n",
       "  b'(\\\\HasNoChildren) \"/\" \"ARCHIVED MAIL/Techbutle Site Admin\"',\n",
       "  b'(\\\\HasNoChildren) \"/\" \"ARCHIVED MAIL/Telkom\"',\n",
       "  b'(\\\\HasNoChildren) \"/\" \"ARCHIVED MAIL/Thames Water\"',\n",
       "  b'(\\\\HasNoChildren) \"/\" \"ARCHIVED MAIL/Thys Broker\"',\n",
       "  b'(\\\\HasNoChildren) \"/\" \"ARCHIVED MAIL/Tracilee Solomons (Standard Bank)\"',\n",
       "  b'(\\\\HasNoChildren) \"/\" \"ARCHIVED MAIL/USN\"',\n",
       "  b'(\\\\HasChildren) \"/\" \"ARCHIVED MAIL/VILLAGE BICYCLE\"',\n",
       "  b'(\\\\HasNoChildren) \"/\" \"ARCHIVED MAIL/VILLAGE BICYCLE/ARA\"',\n",
       "  b'(\\\\HasNoChildren) \"/\" \"ARCHIVED MAIL/VILLAGE BICYCLE/Arthur Appleby\"',\n",
       "  b'(\\\\HasNoChildren) \"/\" \"ARCHIVED MAIL/VILLAGE BICYCLE/Bicycle Cards\"',\n",
       "  b'(\\\\HasNoChildren) \"/\" \"ARCHIVED MAIL/VILLAGE BICYCLE/Bitbucket\"',\n",
       "  b'(\\\\HasNoChildren) \"/\" \"ARCHIVED MAIL/VILLAGE BICYCLE/Buena Test\"',\n",
       "  b'(\\\\HasNoChildren) \"/\" \"ARCHIVED MAIL/VILLAGE BICYCLE/Careshia\"',\n",
       "  b'(\\\\HasNoChildren) \"/\" \"ARCHIVED MAIL/VILLAGE BICYCLE/Charl Fourie\"',\n",
       "  b'(\\\\HasNoChildren) \"/\" \"ARCHIVED MAIL/VILLAGE BICYCLE/Diego\"',\n",
       "  b'(\\\\HasNoChildren) \"/\" \"ARCHIVED MAIL/VILLAGE BICYCLE/Distell\"',\n",
       "  b'(\\\\HasNoChildren) \"/\" \"ARCHIVED MAIL/VILLAGE BICYCLE/DropBox\"',\n",
       "  b'(\\\\HasNoChildren) \"/\" \"ARCHIVED MAIL/VILLAGE BICYCLE/FreeStockImage\"',\n",
       "  b'(\\\\HasNoChildren) \"/\" \"ARCHIVED MAIL/VILLAGE BICYCLE/Grey&-Garnet\"',\n",
       "  b'(\\\\HasNoChildren) \"/\" \"ARCHIVED MAIL/VILLAGE BICYCLE/Iain Ravenhill\"',\n",
       "  b'(\\\\HasNoChildren) \"/\" \"ARCHIVED MAIL/VILLAGE BICYCLE/Lizemari\"',\n",
       "  b'(\\\\HasNoChildren) \"/\" \"ARCHIVED MAIL/VILLAGE BICYCLE/Luther Delport\"',\n",
       "  b'(\\\\HasNoChildren) \"/\" \"ARCHIVED MAIL/VILLAGE BICYCLE/MailChimp\"',\n",
       "  b'(\\\\HasNoChildren) \"/\" \"ARCHIVED MAIL/VILLAGE BICYCLE/Olaf Kronstr&APY-m\"',\n",
       "  b'(\\\\HasNoChildren) \"/\" \"ARCHIVED MAIL/VILLAGE BICYCLE/Renee\"',\n",
       "  b'(\\\\HasNoChildren) \"/\" \"ARCHIVED MAIL/VILLAGE BICYCLE/Sean Ravenhill\"',\n",
       "  b'(\\\\HasNoChildren) \"/\" \"ARCHIVED MAIL/VILLAGE BICYCLE/Shutterstock\"',\n",
       "  b'(\\\\HasNoChildren) \"/\" \"ARCHIVED MAIL/VILLAGE BICYCLE/Stewart Ridgway\"',\n",
       "  b'(\\\\HasNoChildren) \"/\" \"ARCHIVED MAIL/VILLAGE BICYCLE/Tatiana\"',\n",
       "  b'(\\\\HasNoChildren) \"/\" \"ARCHIVED MAIL/VILLAGE BICYCLE/VB_Projects\"',\n",
       "  b'(\\\\HasNoChildren) \"/\" \"ARCHIVED MAIL/VST\"',\n",
       "  b'(\\\\HasNoChildren) \"/\" \"ARCHIVED MAIL/Virgin Active\"',\n",
       "  b'(\\\\HasNoChildren) \"/\" \"ARCHIVED MAIL/Vodacom\"',\n",
       "  b'(\\\\HasNoChildren) \"/\" \"ARCHIVED MAIL/Vodafone\"',\n",
       "  b'(\\\\HasNoChildren) \"/\" \"ARCHIVED MAIL/WP PLUMBING\"',\n",
       "  b'(\\\\HasNoChildren) \"/\" \"ARCHIVED MAIL/Web Africa\"',\n",
       "  b'(\\\\HasNoChildren) \"/\" \"ARCHIVED MAIL/blinkbox\"',\n",
       "  b'(\\\\HasNoChildren) \"/\" \"ARCHIVED MAIL/eBuyer\"',\n",
       "  b'(\\\\HasNoChildren) \"/\" \"ARCHIVED MAIL/i-to-i TEFL Teaching Course\"',\n",
       "  b'(\\\\HasNoChildren) \"/\" \"ARCHIVED MAIL/iBurst\"',\n",
       "  b'(\\\\HasChildren) \"/\" \"Coding\"',\n",
       "  b'(\\\\HasNoChildren) \"/\" \"Coding/Chris Finxter\"',\n",
       "  b'(\\\\HasNoChildren) \"/\" \"Coding/Codecademy\"',\n",
       "  b'(\\\\HasNoChildren) \"/\" \"Coding/Coursera\"',\n",
       "  b'(\\\\HasNoChildren) \"/\" \"Coding/FreeCodeCamp\"',\n",
       "  b'(\\\\HasNoChildren) \"/\" \"Coding/GeeksforGeeks\"',\n",
       "  b'(\\\\HasNoChildren) \"/\" \"Coding/Growth Tribe Academy\"',\n",
       "  b'(\\\\HasNoChildren) \"/\" \"Coding/HyperionDev\"',\n",
       "  b'(\\\\HasNoChildren) \"/\" \"Coding/Jose Portello\"',\n",
       "  b'(\\\\HasNoChildren) \"/\" \"Coding/Kaggle\"',\n",
       "  b'(\\\\HasNoChildren) \"/\" \"Coding/OfferZen\"',\n",
       "  b'(\\\\HasNoChildren) \"/\" \"Coding/PY4E\"',\n",
       "  b'(\\\\HasNoChildren) \"/\" \"Coding/PyCoder\\'s Weekly\"',\n",
       "  b'(\\\\HasNoChildren) \"/\" \"Coding/Quincy Larson (freeCodeCamp)\"',\n",
       "  b'(\\\\HasNoChildren) \"/\" \"Coding/Real Python\"',\n",
       "  b'(\\\\HasNoChildren) \"/\" \"Coding/SDS Club\"',\n",
       "  b'(\\\\HasNoChildren) \"/\" \"Coding/Turing\"',\n",
       "  b'(\\\\HasNoChildren) \"/\" \"Drafts\"',\n",
       "  b'(\\\\HasNoChildren) \"/\" \"INBOX\"',\n",
       "  b'(\\\\HasNoChildren) \"/\" \"Notes\"',\n",
       "  b'(\\\\HasChildren) \"/\" \"Personal\"',\n",
       "  b'(\\\\HasChildren) \"/\" \"Personal/18 Tokai Villa\\'s\"',\n",
       "  b'(\\\\HasNoChildren) \"/\" \"Personal/18 Tokai Villa\\'s/Andrid @ STTB\"',\n",
       "  b'(\\\\HasNoChildren) \"/\" \"Personal/18 Tokai Villa\\'s/Brittany News\"',\n",
       "  b'(\\\\HasNoChildren) \"/\" \"Personal/18 Tokai Villa\\'s/Brittany Trustees\"',\n",
       "  b'(\\\\HasNoChildren) \"/\" \"Personal/18 Tokai Villa\\'s/Bronwen Meijer\"',\n",
       "  b'(\\\\HasNoChildren) \"/\" \"Personal/18 Tokai Villa\\'s/Carl Meijer\"',\n",
       "  b'(\\\\HasNoChildren) \"/\" \"Personal/18 Tokai Villa\\'s/HOA (Brittany Tokai Villas)\"',\n",
       "  b'(\\\\HasNoChildren) \"/\" \"Personal/18 Tokai Villa\\'s/Iliana (Complex Manager)\"',\n",
       "  b'(\\\\HasNoChildren) \"/\" \"Personal/18 Tokai Villa\\'s/Janine Davids\"',\n",
       "  b'(\\\\HasNoChildren) \"/\" \"Personal/18 Tokai Villa\\'s/Janine Garner\"',\n",
       "  b'(\\\\HasNoChildren) \"/\" \"Personal/18 Tokai Villa\\'s/Jessica (Property Princepals)\"',\n",
       "  b'(\\\\HasNoChildren) \"/\" \"Personal/18 Tokai Villa\\'s/Joyce Longthorne\"',\n",
       "  b'(\\\\HasNoChildren) \"/\" \"Personal/18 Tokai Villa\\'s/Marlene Wellman\"',\n",
       "  b'(\\\\HasNoChildren) \"/\" \"Personal/18 Tokai Villa\\'s/New Complex Manager\"',\n",
       "  b'(\\\\HasNoChildren) \"/\" \"Personal/18 Tokai Villa\\'s/Norma Petrus\"',\n",
       "  b'(\\\\HasNoChildren) \"/\" \"Personal/18 Tokai Villa\\'s/Pam Daneels (Property Principal)\"',\n",
       "  b'(\\\\HasNoChildren) \"/\" \"Personal/18 Tokai Villa\\'s/Property Principals Accounts (18 Brittany Levies)\"',\n",
       "  b'(\\\\HasNoChildren) \"/\" \"Personal/18 Tokai Villa\\'s/STBB\"',\n",
       "  b'(\\\\HasNoChildren) \"/\" \"Personal/18 Tokai Villa\\'s/Security (Brittany Tokai Villas)\"',\n",
       "  b'(\\\\HasNoChildren) \"/\" \"Personal/18 Tokai Villa\\'s/TVHOA\"',\n",
       "  b'(\\\\HasNoChildren) \"/\" \"Personal/18 Tokai Villa\\'s/Tarren Spandoni\"',\n",
       "  b'(\\\\HasNoChildren) \"/\" \"Personal/Afrihost\"',\n",
       "  b'(\\\\HasNoChildren) \"/\" \"Personal/Airbnb\"',\n",
       "  b'(\\\\HasNoChildren) \"/\" \"Personal/Alison Thomson Physio\"',\n",
       "  b'(\\\\HasNoChildren) \"/\" \"Personal/Alistair Capon\"',\n",
       "  b'(\\\\HasNoChildren) \"/\" \"Personal/Apple\"',\n",
       "  b'(\\\\HasNoChildren) \"/\" \"Personal/Avron Sirin\"',\n",
       "  b'(\\\\HasNoChildren) \"/\" \"Personal/Backhome\"',\n",
       "  b'(\\\\HasNoChildren) \"/\" \"Personal/Bandcamp\"',\n",
       "  b'(\\\\HasNoChildren) \"/\" \"Personal/Beaverlac\"',\n",
       "  b'(\\\\HasNoChildren) \"/\" \"Personal/Bike Addict\"',\n",
       "  b'(\\\\HasNoChildren) \"/\" \"Personal/Blender\"',\n",
       "  b'(\\\\HasNoChildren) \"/\" \"Personal/British Airways\"',\n",
       "  b'(\\\\HasNoChildren) \"/\" \"Personal/Bruce Ravenhill\"',\n",
       "  b'(\\\\HasNoChildren) \"/\" \"Personal/Bryan Look\"',\n",
       "  b'(\\\\HasNoChildren) \"/\" \"Personal/Candice Look\"',\n",
       "  b'(\\\\HasNoChildren) \"/\" \"Personal/Carin Dickson\"',\n",
       "  b'(\\\\HasNoChildren) \"/\" \"Personal/ChainReactionCycles\"',\n",
       "  b'(\\\\HasNoChildren) \"/\" \"Personal/Christopher Dowding\"',\n",
       "  b'(\\\\HasNoChildren) \"/\" \"Personal/City Of Cape Town\"',\n",
       "  b'(\\\\HasNoChildren) \"/\" \"Personal/Corel\"',\n",
       "  b'(\\\\HasNoChildren) \"/\" \"Personal/Discover Vitality\"',\n",
       "  b'(\\\\HasNoChildren) \"/\" \"Personal/Discovery Health\"',\n",
       "  b'(\\\\HasNoChildren) \"/\" \"Personal/Discovery Insure\"',\n",
       "  b'(\\\\HasNoChildren) \"/\" \"Personal/Dotsure Pet Insurance\"',\n",
       "  b'(\\\\HasNoChildren) \"/\" \"Personal/EHIC\"',\n",
       "  b'(\\\\HasNoChildren) \"/\" \"Personal/Emirates\"',\n",
       "  b'(\\\\HasNoChildren) \"/\" \"Personal/ExpressVPN\"',\n",
       "  b'(\\\\HasNoChildren) \"/\" \"Personal/FLYSAA\"',\n",
       "  b'(\\\\HasNoChildren) \"/\" \"Personal/FNB Bank\"',\n",
       "  b'(\\\\HasNoChildren) \"/\" \"Personal/Fae Adams\"',\n",
       "  b'(\\\\HasNoChildren) \"/\" \"Personal/Faithful to Nature\"',\n",
       "  b'(\\\\HasNoChildren) \"/\" \"Personal/FedEx\"',\n",
       "  b'(\\\\HasNoChildren) \"/\" \"Personal/Firebase\"',\n",
       "  b'(\\\\HasNoChildren) \"/\" \"Personal/Fitbit\"',\n",
       "  b'(\\\\HasNoChildren) \"/\" \"Personal/Fluidride\"',\n",
       "  b'(\\\\HasNoChildren) \"/\" \"Personal/FlyMango\"',\n",
       "  b'(\\\\HasNoChildren) \"/\" \"Personal/FlySaFair\"',\n",
       "  b'(\\\\HasNoChildren) \"/\" \"Personal/Ford Fiesta\"',\n",
       "  b'(\\\\HasNoChildren) \"/\" \"Personal/Frank Broker\"',\n",
       "  b'(\\\\HasNoChildren) \"/\" \"Personal/Frank Medrano\"',\n",
       "  b'(\\\\HasNoChildren) \"/\" \"Personal/Freeletics\"',\n",
       "  b'(\\\\HasNoChildren) \"/\" \"Personal/Frogfoot Networks\"',\n",
       "  b'(\\\\HasNoChildren) \"/\" \"Personal/Futurephonic\"',\n",
       "  b'(\\\\HasNoChildren) \"/\" \"Personal/GitHub\"',\n",
       "  b'(\\\\HasNoChildren) \"/\" \"Personal/Google\"',\n",
       "  b'(\\\\HasNoChildren) \"/\" \"Personal/Google Checkout\"',\n",
       "  b'(\\\\HasNoChildren) \"/\" \"Personal/Google Docs\"',\n",
       "  b'(\\\\HasNoChildren) \"/\" \"Personal/Google Drive\"',\n",
       "  b'(\\\\HasNoChildren) \"/\" \"Personal/Google Play\"',\n",
       "  b'(\\\\HasNoChildren) \"/\" \"Personal/Google Recovery\"',\n",
       "  b'(\\\\HasNoChildren) \"/\" \"Personal/Google Search Console\"',\n",
       "  b'(\\\\HasNoChildren) \"/\" \"Personal/Google Wallet\"',\n",
       "  b'(\\\\HasNoChildren) \"/\" \"Personal/Graham Philips (Accountant)\"',\n",
       "  b'(\\\\HasNoChildren) \"/\" \"Personal/HKE Projects\"',\n",
       "  b'(\\\\HasNoChildren) \"/\" \"Personal/HotInk\"',\n",
       "  b'(\\\\HasNoChildren) \"/\" \"Personal/Humble Bundle\"',\n",
       "  b'(\\\\HasNoChildren) \"/\" \"Personal/Iain Ravenhill\"',\n",
       "  b'(\\\\HasNoChildren) \"/\" \"Personal/Ilona Ravenhill\"',\n",
       "  b'(\\\\HasNoChildren) \"/\" \"Personal/Instructables\"',\n",
       "  b'(\\\\HasNoChildren) \"/\" \"Personal/Jack Tilbury\"',\n",
       "  b'(\\\\HasNoChildren) \"/\" \"Personal/Jason @ NiceWork\"',\n",
       "  b'(\\\\HasNoChildren) \"/\" \"Personal/Jigar Assar\"',\n",
       "  b'(\\\\HasNoChildren) \"/\" \"Personal/Joyce Whitcroft\"',\n",
       "  b'(\\\\HasNoChildren) \"/\" \"Personal/Juanita Kruger\"',\n",
       "  b'(\\\\HasNoChildren) \"/\" \"Personal/Kellen Rodney\"',\n",
       "  b'(\\\\HasNoChildren) \"/\" \"Personal/Kulula.com\"',\n",
       "  b'(\\\\HasNoChildren) \"/\" \"Personal/Len Samson\"',\n",
       "  b'(\\\\HasNoChildren) \"/\" \"Personal/LinkedIn\"',\n",
       "  b'(\\\\HasNoChildren) \"/\" \"Personal/Lyn Ravenhill\"',\n",
       "  b'(\\\\HasNoChildren) \"/\" \"Personal/Lynette Perkins\"',\n",
       "  b'(\\\\HasNoChildren) \"/\" \"Personal/MadBarz\"',\n",
       "  b'(\\\\HasNoChildren) \"/\" \"Personal/Makro\"',\n",
       "  b'(\\\\HasNoChildren) \"/\" \"Personal/Margaux Knuppe\"',\n",
       "  b'(\\\\HasNoChildren) \"/\" \"Personal/Marilyn Goodwin\"',\n",
       "  b'(\\\\HasNoChildren) \"/\" \"Personal/Matt East\"',\n",
       "  b'(\\\\HasNoChildren) \"/\" \"Personal/Me-To-ME\"',\n",
       "  b'(\\\\HasNoChildren) \"/\" \"Personal/Michael West\"',\n",
       "  b'(\\\\HasNoChildren) \"/\" \"Personal/Michael Witcroft\"',\n",
       "  b'(\\\\HasNoChildren) \"/\" \"Personal/Microsoft\"',\n",
       "  b'(\\\\HasNoChildren) \"/\" \"Personal/Mixed In Key\"',\n",
       "  b'(\\\\HasNoChildren) \"/\" \"Personal/Morton &- Partners\"',\n",
       "  b'(\\\\HasNoChildren) \"/\" \"Personal/Native Instruments\"',\n",
       "  b'(\\\\HasNoChildren) \"/\" \"Personal/Neil Tuck\"',\n",
       "  b'(\\\\HasNoChildren) \"/\" \"Personal/NetCare\"',\n",
       "  b'(\\\\HasNoChildren) \"/\" \"Personal/Netflix\"',\n",
       "  b'(\\\\HasNoChildren) \"/\" \"Personal/Nick Knuppe\"',\n",
       "  b'(\\\\HasNoChildren) \"/\" \"Personal/OneDayOnly\"',\n",
       "  b'(\\\\HasNoChildren) \"/\" \"Personal/PathCare\"',\n",
       "  b'(\\\\HasNoChildren) \"/\" \"Personal/PayFast\"',\n",
       "  b'(\\\\HasNoChildren) \"/\" \"Personal/Payfine\"',\n",
       "  b'(\\\\HasNoChildren) \"/\" \"Personal/Paypal\"',\n",
       "  b'(\\\\HasNoChildren) \"/\" \"Personal/PlayStation\"',\n",
       "  b'(\\\\HasNoChildren) \"/\" \"Personal/Purrmore Cattery\"',\n",
       "  b'(\\\\HasNoChildren) \"/\" \"Personal/Quicket\"',\n",
       "  b'(\\\\HasNoChildren) \"/\" \"Personal/Rebel Fitness\"',\n",
       "  b'(\\\\HasNoChildren) \"/\" \"Personal/Reebok South Africa\"',\n",
       "  b'(\\\\HasNoChildren) \"/\" \"Personal/SABC\"',\n",
       "  b'(\\\\HasNoChildren) \"/\" \"Personal/SAGE\"',\n",
       "  b'(\\\\HasNoChildren) \"/\" \"Personal/SARS\"',\n",
       "  b'(\\\\HasNoChildren) \"/\" \"Personal/Santam\"',\n",
       "  b'(\\\\HasNoChildren) \"/\" \"Personal/Sarah Ravenhill\"',\n",
       "  b'(\\\\HasNoChildren) \"/\" \"Personal/SatrixNOW\"',\n",
       "  b'(\\\\HasNoChildren) \"/\" \"Personal/Simon Bannister\"',\n",
       "  b'(\\\\HasNoChildren) \"/\" \"Personal/Smash.GG\"',\n",
       "  b'(\\\\HasNoChildren) \"/\" \"Personal/Soundcloud\"',\n",
       "  b'(\\\\HasNoChildren) \"/\" \"Personal/Spotify\"',\n",
       "  b'(\\\\HasNoChildren) \"/\" \"Personal/Steam\"',\n",
       "  b'(\\\\HasNoChildren) \"/\" \"Personal/Steenberg Vet\"',\n",
       "  b'(\\\\HasNoChildren) \"/\" \"Personal/TSB\"',\n",
       "  b'(\\\\HasNoChildren) \"/\" \"Personal/Takealot\"',\n",
       "  b'(\\\\HasNoChildren) \"/\" \"Personal/Tanya Monteiro\"',\n",
       "  b'(\\\\HasNoChildren) \"/\" \"Personal/The Trails Crew\"',\n",
       "  b'(\\\\HasNoChildren) \"/\" \"Personal/Tiger Wheel  &- Tyre Tokai\"',\n",
       "  b'(\\\\HasNoChildren) \"/\" \"Personal/TinkerCad\"',\n",
       "  b'(\\\\HasNoChildren) \"/\" \"Personal/Uber Receipts &- Support\"',\n",
       "  b'(\\\\HasNoChildren) \"/\" \"Personal/Udemy\"',\n",
       "  b'(\\\\HasNoChildren) \"/\" \"Personal/Uncommon Knowledge Hypnosis\"',\n",
       "  b'(\\\\HasNoChildren) \"/\" \"Personal/Undersun Fitness\"',\n",
       "  b'(\\\\HasNoChildren) \"/\" \"Personal/Upwork\"',\n",
       "  b'(\\\\HasNoChildren) \"/\" \"Personal/Wootware\"',\n",
       "  b'(\\\\HasNoChildren) \"/\" \"Personal/YouTube\"',\n",
       "  b'(\\\\HasNoChildren) \"/\" \"Personal/Zapper\"',\n",
       "  b'(\\\\HasNoChildren) \"/\" \"Personal/eBucks\"',\n",
       "  b'(\\\\HasNoChildren) \"/\" \"Personal/iStore\"',\n",
       "  b'(\\\\HasNoChildren) \"/\" \"Sent\"',\n",
       "  b'(\\\\HasNoChildren) \"/\" \"Trash\"',\n",
       "  b'(\\\\HasChildren \\\\Noselect) \"/\" \"[Gmail]\"',\n",
       "  b'(\\\\All \\\\HasNoChildren) \"/\" \"[Gmail]/All Mail\"',\n",
       "  b'(\\\\HasNoChildren \\\\Trash) \"/\" \"[Gmail]/Bin\"',\n",
       "  b'(\\\\Drafts \\\\HasNoChildren) \"/\" \"[Gmail]/Drafts\"',\n",
       "  b'(\\\\HasNoChildren \\\\Important) \"/\" \"[Gmail]/Important\"',\n",
       "  b'(\\\\HasNoChildren \\\\Sent) \"/\" \"[Gmail]/Sent Mail\"',\n",
       "  b'(\\\\HasNoChildren \\\\Junk) \"/\" \"[Gmail]/Spam\"',\n",
       "  b'(\\\\Flagged \\\\HasNoChildren) \"/\" \"[Gmail]/Starred\"'])"
      ]
     },
     "execution_count": 12,
     "metadata": {},
     "output_type": "execute_result"
    }
   ],
   "source": [
    "mail.list()"
   ]
  },
  {
   "cell_type": "code",
   "execution_count": 13,
   "metadata": {},
   "outputs": [
    {
     "data": {
      "text/plain": [
       "('OK', [b'3'])"
      ]
     },
     "execution_count": 13,
     "metadata": {},
     "output_type": "execute_result"
    }
   ],
   "source": [
    "mail.select('inbox')"
   ]
  },
  {
   "cell_type": "code",
   "execution_count": 14,
   "metadata": {},
   "outputs": [],
   "source": [
    "typ ,data = mail.search(None,'FROM \"info@thegoldbugs.com\"')"
   ]
  },
  {
   "cell_type": "code",
   "execution_count": 15,
   "metadata": {},
   "outputs": [
    {
     "data": {
      "text/plain": [
       "'OK'"
      ]
     },
     "execution_count": 15,
     "metadata": {},
     "output_type": "execute_result"
    }
   ],
   "source": [
    "typ"
   ]
  },
  {
   "cell_type": "code",
   "execution_count": 16,
   "metadata": {},
   "outputs": [],
   "source": [
    "result, email_data = mail.fetch(data[0],'(RFC822)')"
   ]
  },
  {
   "cell_type": "code",
   "execution_count": 17,
   "metadata": {},
   "outputs": [],
   "source": [
    "raw_email = email_data[0][1]"
   ]
  },
  {
   "cell_type": "code",
   "execution_count": 18,
   "metadata": {},
   "outputs": [],
   "source": [
    "raw_email_string = raw_email.decode('utf-8')"
   ]
  },
  {
   "cell_type": "code",
   "execution_count": 19,
   "metadata": {},
   "outputs": [],
   "source": [
    "import email"
   ]
  },
  {
   "cell_type": "code",
   "execution_count": 20,
   "metadata": {},
   "outputs": [],
   "source": [
    "email_message = email.message_from_string(raw_email_string)"
   ]
  },
  {
   "cell_type": "code",
   "execution_count": 21,
   "metadata": {},
   "outputs": [
    {
     "name": "stdout",
     "output_type": "stream",
     "text": [
      "b'<div dir=\"ltr\">If you are reading this message, you were able to find the email from the PDF using the CSV file.<div><br></div><div>Here is what you will need for the next phase:</div><div><br></div><div><span style=\"font-size:12.8px\"><a href=\"https://drive.google.com/file/d/15YyLqIuGlsCLr4ioKUeHRw8H2QjBNOz2/view?usp=sharing\" target=\"_blank\">https://drive.google.com/file/d/15YyLqIuGlsCLr4ioKUeHRw8H2QjBNOz2/view?usp=sharing</a></span><br></div><div><span style=\"font-size:12.8px\"><br></span></div><div><span style=\"font-size:12.8px\"><a href=\"https://drive.google.com/file/d/128MRLNuytoW7dVm6B7AF_cDVMeACyTFk/view?usp=sharing\" target=\"_blank\">https://drive.google.com/file/d/128MRLNuytoW7dVm6B7AF_cDVMeACyTFk/view?usp=sharing</a></span><br></div><div><br></div><div><br></div></div>\\r\\n'\n"
     ]
    }
   ],
   "source": [
    "for part in email_message.walk():\n",
    "    if part.get_content_type() == 'text/html':\n",
    "        body = part.get_payload(decode=True)\n",
    "        print(body)"
   ]
  },
  {
   "cell_type": "markdown",
   "metadata": {},
   "source": [
    "b'<div dir=\"ltr\">If you are reading this message, you were able to find the email from the PDF using the CSV file.<div><br></div><div>Here is what you will need for the next phase:</div><div><br></div><div><span style=\"font-size:12.8px\"><a href=\"https://drive.google.com/file/d/15YyLqIuGlsCLr4ioKUeHRw8H2QjBNOz2/view?usp=sharing\" target=\"_blank\">https://drive.google.com/file/d/15YyLqIuGlsCLr4ioKUeHRw8H2QjBNOz2/view?usp=sharing</a></span><br></div><div><span style=\"font-size:12.8px\"><br></span></div><div><span style=\"font-size:12.8px\"><a href=\"https://drive.google.com/file/d/128MRLNuytoW7dVm6B7AF_cDVMeACyTFk/view?usp=sharing\" target=\"_blank\">https://drive.google.com/file/d/128MRLNuytoW7dVm6B7AF_cDVMeACyTFk/view?usp=sharing</a></span><br></div><div><br></div><div><br></div></div>\\r\\n'"
   ]
  },
  {
   "cell_type": "code",
   "execution_count": 22,
   "metadata": {},
   "outputs": [
    {
     "data": {
      "text/plain": [
       "('OK', [b'Returned to authenticated state. (Success)'])"
      ]
     },
     "execution_count": 22,
     "metadata": {},
     "output_type": "execute_result"
    }
   ],
   "source": [
    "mail.close()"
   ]
  },
  {
   "cell_type": "code",
   "execution_count": 23,
   "metadata": {},
   "outputs": [
    {
     "data": {
      "text/plain": [
       "('BYE', [b'LOGOUT Requested'])"
      ]
     },
     "execution_count": 23,
     "metadata": {},
     "output_type": "execute_result"
    }
   ],
   "source": [
    "mail.logout()"
   ]
  }
 ],
 "metadata": {
  "kernelspec": {
   "display_name": "Python 3",
   "language": "python",
   "name": "python3"
  },
  "language_info": {
   "codemirror_mode": {
    "name": "ipython",
    "version": 3
   },
   "file_extension": ".py",
   "mimetype": "text/x-python",
   "name": "python",
   "nbconvert_exporter": "python",
   "pygments_lexer": "ipython3",
   "version": "3.8.3"
  }
 },
 "nbformat": 4,
 "nbformat_minor": 1
}
