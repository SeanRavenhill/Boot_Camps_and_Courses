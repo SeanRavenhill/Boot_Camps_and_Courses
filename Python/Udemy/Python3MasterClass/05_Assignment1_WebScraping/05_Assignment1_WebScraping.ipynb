{
 "cells": [
  {
   "cell_type": "markdown",
   "metadata": {
    "collapsed": true
   },
   "source": [
    "# Red Mission Overview\n",
    "\n",
    "Welcome to the field agent. This is where your training really comes into play. Remember a real agent is never done learning. You will need to constantly adapt to whatever scenario your presented.\n",
    "\n",
    "It is time for you to find the RAINBOW Rogues. We were previously close to cracking this rogue network, but they realized we were on to them and it seems they have completely changed their approach. \n",
    "\n",
    "We believe that they hide their communications through some sort of interwoven series of connections, however we've been having trouble getting any traction.\n",
    "\n",
    "All we know is the following, before  rogue agent leaves the institute, they visit the website of a band:\n",
    "\n",
    "[https://www.thegoldbugs.com](https://www.thegoldbugs.com)\n",
    "\n",
    "It seems like they want other agents to find this site, because before leaving they clear everything in their browsing history except for this site.\n",
    "\n",
    "## Your Mission\n",
    "\n",
    "Visit the site and see if you can gather any evidence indicating the location of the rogue agents.\n",
    "\n",
    "Best of luck Agent."
   ]
  },
  {
   "cell_type": "code",
   "execution_count": 1,
   "metadata": {},
   "outputs": [
    {
     "name": "stdout",
     "output_type": "stream",
     "text": [
      "https://drive.google.com/open?id=1k4uU9l6G19Q4hPwmjHsNLdPvnKs7YjNoxJLkT5Oy4u4\n"
     ]
    }
   ],
   "source": [
    "import requests\n",
    "import bs4\n",
    "\n",
    "res = requests.get('https://www.thegoldbugs.com/blog')\n",
    "\n",
    "soup = bs4.BeautifulSoup(res.text,\"lxml\")\n",
    "\n",
    "hidden_address = []\n",
    "\n",
    "for item in soup.select('pre'):\n",
    "    text = item.text\n",
    "    lines = text.split(\"-----\")[1:]\n",
    "    for line in lines:\n",
    "        char = line[0:1]\n",
    "        hidden_address.append(char)\n",
    "\n",
    "print(''.join(hidden_address))"
   ]
  },
  {
   "cell_type": "markdown",
   "metadata": {},
   "source": [
    "----"
   ]
  },
  {
   "cell_type": "markdown",
   "metadata": {},
   "source": [
    "ALTERNATIVE SOLUTION"
   ]
  },
  {
   "cell_type": "code",
   "execution_count": 2,
   "metadata": {},
   "outputs": [
    {
     "name": "stdout",
     "output_type": "stream",
     "text": [
      "https://drive.google.com/open?id=1k4uU9l6G19Q4hPwmjHsNLdPvnKs7YjNoxJLkT5Oy4u4\n"
     ]
    }
   ],
   "source": [
    "import requests\n",
    "import bs4\n",
    "\n",
    "res = requests.get('https://www.thegoldbugs.com/blog')\n",
    "\n",
    "soup = bs4.BeautifulSoup(res.text,\"lxml\")\n",
    "\n",
    "blog = soup.select('pre')\n",
    "\n",
    "text = blog[0]\n",
    "\n",
    "text = text.contents[0]\n",
    "\n",
    "result = ''\n",
    "\n",
    "split = text.split('-----')\n",
    "\n",
    "for sentence in text.split('-----')[1:]:\n",
    "    result = result+sentence[0]\n",
    "    \n",
    "print(result)"
   ]
  }
 ],
 "metadata": {
  "anaconda-cloud": {},
  "kernelspec": {
   "display_name": "Python 3",
   "language": "python",
   "name": "python3"
  },
  "language_info": {
   "codemirror_mode": {
    "name": "ipython",
    "version": 3
   },
   "file_extension": ".py",
   "mimetype": "text/x-python",
   "name": "python",
   "nbconvert_exporter": "python",
   "pygments_lexer": "ipython3",
   "version": "3.8.3"
  }
 },
 "nbformat": 4,
 "nbformat_minor": 2
}
